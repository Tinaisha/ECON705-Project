{
 "cells": [
  {
   "cell_type": "code",
   "execution_count": 1,
   "metadata": {},
   "outputs": [],
   "source": [
    "import pandas as pd\n",
    "import numpy as np\n",
    "import matplotlib.pyplot as plt\n",
    "import time\n",
    "\n",
    "from sklearn.feature_extraction.text import CountVectorizer\n",
    "from sklearn.feature_extraction.text import TfidfTransformer\n",
    "from sklearn.linear_model import LogisticRegression\n",
    "from sklearn.linear_model import LogisticRegressionCV\n",
    "from sklearn.pipeline import make_pipeline, Pipeline\n",
    "from sklearn import metrics\n",
    "from sklearn.compose import make_column_transformer\n",
    "from sklearn.preprocessing import StandardScaler, OneHotEncoder\n",
    "from itertools import product\n",
    "from sklearn.model_selection import GridSearchCV, train_test_split, RepeatedStratifiedKFold\n",
    "from sklearn.tree import DecisionTreeClassifier\n",
    "\n",
    "import statsmodels.api as sm\n",
    "\n",
    "import datetime\n"
   ]
  },
  {
   "cell_type": "code",
   "execution_count": 2,
   "metadata": {},
   "outputs": [
    {
     "name": "stdout",
     "output_type": "stream",
     "text": [
      "           ID                                               name  \\\n",
      "0  1000002330                    The Songs of Adelaide & Abullah   \n",
      "1  1000003930      Greeting From Earth: ZGAC Arts Capsule For ET   \n",
      "2  1000004038                                     Where is Hank?   \n",
      "3  1000007540  ToshiCapital Rekordz Needs Help to Complete Album   \n",
      "4  1000011046  Community Film Project: The Art of Neighborhoo...   \n",
      "\n",
      "         category main_category currency    deadline     goal  \\\n",
      "0          Poetry    Publishing      GBP  2015-10-09   1000.0   \n",
      "1  Narrative Film  Film & Video      USD  2017-11-01  30000.0   \n",
      "2  Narrative Film  Film & Video      USD  2013-02-26  45000.0   \n",
      "3           Music         Music      USD  2012-04-16   5000.0   \n",
      "4    Film & Video  Film & Video      USD  2015-08-29  19500.0   \n",
      "\n",
      "              launched  pledged     state  backers country  usd pledged  \\\n",
      "0  2015-08-11 12:12:28      0.0    failed        0      GB          0.0   \n",
      "1  2017-09-02 04:43:57   2421.0    failed       15      US        100.0   \n",
      "2  2013-01-12 00:20:50    220.0    failed        3      US        220.0   \n",
      "3  2012-03-17 03:24:11      1.0    failed        1      US          1.0   \n",
      "4  2015-07-04 08:35:03   1283.0  canceled       14      US       1283.0   \n",
      "\n",
      "   usd_pledged_real  usd_goal_real  \n",
      "0               0.0        1533.95  \n",
      "1            2421.0       30000.00  \n",
      "2             220.0       45000.00  \n",
      "3               1.0        5000.00  \n",
      "4            1283.0       19500.00  \n"
     ]
    }
   ],
   "source": [
    "data = pd.read_csv(\"startupData/ks-projects-201801.csv\")\n",
    "df= data.copy()\n",
    "print(df.head())"
   ]
  },
  {
   "cell_type": "markdown",
   "metadata": {},
   "source": [
    "## Descriptive statistics (+some preprocessing)"
   ]
  },
  {
   "cell_type": "code",
   "execution_count": 3,
   "metadata": {},
   "outputs": [
    {
     "data": {
      "text/plain": [
       "(378657, 12)"
      ]
     },
     "execution_count": 3,
     "metadata": {},
     "output_type": "execute_result"
    }
   ],
   "source": [
    "df1 = df.copy()\n",
    "df = df.drop(columns = ['pledged','goal','usd pledged'])\n",
    "df = df.dropna()\n",
    "df.shape"
   ]
  },
  {
   "cell_type": "code",
   "execution_count": 4,
   "metadata": {},
   "outputs": [],
   "source": [
    "df['nameLength'] = df['name'].str.len()\n",
    "\n",
    "df['currency'].replace({'USD':'USD',\n",
    " 'GBP':'GBP',\n",
    " 'EUR':'EUR',\n",
    " 'CAD':'CAD',\n",
    " 'AUD':'AUD',\n",
    " 'SEK':'other',\n",
    " 'MXN':'other',\n",
    " 'NZD':'other',\n",
    " 'DKK':'other',\n",
    " 'CHF':'other',\n",
    " 'NOK':'other',\n",
    " 'HKD':'other',\n",
    " 'SGD':'other',\n",
    " 'JPY':'other'}, inplace=True)\n",
    "\n",
    "#date and time data to float for easier regression\n",
    "df['launched']=pd.to_datetime(df['launched']).dt.date\n",
    "df['launchTime'] = (df['launched'] - df['launched'].min())  / np.timedelta64(1,'D')\n",
    "\n",
    "df['deadlineDum']=pd.to_datetime(df['deadline']).dt.date\n",
    "df['deadlineTime'] = (df['deadlineDum'] - df['launched'].min())  / np.timedelta64(1,'D')\n",
    "\n",
    "df['projectLength'] = df['deadlineTime'] - df['launchTime']"
   ]
  },
  {
   "cell_type": "markdown",
   "metadata": {},
   "source": [
    "## Training time! (cont)"
   ]
  },
  {
   "cell_type": "code",
   "execution_count": 5,
   "metadata": {},
   "outputs": [],
   "source": [
    "# deep copy datasets, keeping dfOri unchanged\n",
    "dfOri = df.copy()\n",
    "df = dfOri.copy()\n",
    "df = df.drop(columns = ['ID','deadline','launched','deadlineDum'],errors='ignore' )"
   ]
  },
  {
   "cell_type": "code",
   "execution_count": 6,
   "metadata": {},
   "outputs": [
    {
     "name": "stdout",
     "output_type": "stream",
     "text": [
      "failed        19772\n",
      "successful    13396\n",
      "canceled       3878\n",
      "undefined       356\n",
      "live            280\n",
      "suspended       184\n",
      "Name: state, dtype: int64\n",
      "failed        142355\n",
      "successful     96447\n",
      "canceled       27921\n",
      "undefined       2565\n",
      "live            2015\n",
      "suspended       1329\n",
      "Name: state, dtype: int64\n",
      "failed        35589\n",
      "successful    24113\n",
      "canceled       6980\n",
      "undefined       641\n",
      "live            504\n",
      "suspended       332\n",
      "Name: state, dtype: int64\n"
     ]
    }
   ],
   "source": [
    "# train test split\n",
    "df_rest, df_test = train_test_split(df,test_size=0.1, random_state=123, stratify=df['state'])\n",
    "df_train, df_val = train_test_split(df_rest, test_size=0.2, random_state=123,stratify=df_rest['state'])\n",
    "print(df_test['state'].value_counts())\n",
    "print(df_train['state'].value_counts())\n",
    "print(df_val['state'].value_counts())"
   ]
  },
  {
   "cell_type": "markdown",
   "metadata": {},
   "source": [
    "### Dependent variable = state (all categories, except canceled since this one has no information on usd goal and pledge)"
   ]
  },
  {
   "cell_type": "code",
   "execution_count": 7,
   "metadata": {},
   "outputs": [
    {
     "data": {
      "text/plain": [
       "(244711, 10)"
      ]
     },
     "execution_count": 7,
     "metadata": {},
     "output_type": "execute_result"
    }
   ],
   "source": [
    "#df1 has all the thing needed for this part\n",
    "dfS_train = df_train.copy()\n",
    "dfS_train = dfS_train[['name','main_category','state', 'backers','usd_goal_real', 'nameLength', 'launchTime', 'deadlineTime', 'projectLength','currency']]\n",
    "dfS_train = dfS_train[dfS_train['state'] != 'canceled']\n",
    "dfS_train.shape\n"
   ]
  },
  {
   "cell_type": "code",
   "execution_count": 8,
   "metadata": {},
   "outputs": [
    {
     "data": {
      "text/plain": [
       "(61179, 10)"
      ]
     },
     "execution_count": 8,
     "metadata": {},
     "output_type": "execute_result"
    }
   ],
   "source": [
    "dfS_val = df_val.copy()\n",
    "dfS_val = dfS_val[['name','main_category','state', 'backers','usd_goal_real', 'nameLength', 'launchTime', 'deadlineTime', 'projectLength','currency']]\n",
    "dfS_val = dfS_val[dfS_val['state'] != 'canceled']\n",
    "dfS_val.shape\n"
   ]
  },
  {
   "cell_type": "code",
   "execution_count": 9,
   "metadata": {},
   "outputs": [
    {
     "name": "stdout",
     "output_type": "stream",
     "text": [
      "['Film & Video', 'Music', 'Publishing', 'Games', 'Technology', 'Art', 'Design', 'Food', 'Fashion', 'Theater', 'Comics', 'Photography', 'Crafts', 'Journalism', 'Dance']\n",
      "['USD', 'GBP', 'EUR', 'CAD', 'other', 'AUD']\n"
     ]
    }
   ],
   "source": [
    "# Category\n",
    "mainCategory = dfS_train['main_category'].value_counts().keys().to_list()\n",
    "print(mainCategory)\n",
    "currency = dfS_train['currency'].value_counts().keys().to_list()\n",
    "print(currency)"
   ]
  },
  {
   "cell_type": "markdown",
   "metadata": {},
   "source": [
    "#### Only have numerical features (excluding the \"name\" feature)\n"
   ]
  },
  {
   "cell_type": "code",
   "execution_count": 10,
   "metadata": {},
   "outputs": [
    {
     "name": "stdout",
     "output_type": "stream",
     "text": [
      "[ 1.          0.          0.          0.          0.          0.\n",
      "  0.          0.          0.          0.          0.          0.\n",
      "  0.          0.          0.          0.          0.          0.\n",
      "  0.          0.22024098 -0.02099224  1.1121904   0.22027868  0.21534828\n",
      " -0.11259926]\n"
     ]
    }
   ],
   "source": [
    "X_train1 = dfS_train.drop(columns=['state','name'])\n",
    "y_train1 = dfS_train['state']\n",
    "X_val1 = dfS_val.drop(columns=['state','name'])\n",
    "y_val1 = dfS_val['state']\n",
    "\n",
    "enc1 = OneHotEncoder(categories=[mainCategory,currency],drop = 'first')\n",
    "\n",
    "prepro1 = make_column_transformer((enc1, ['main_category','currency']),\n",
    "                                      (StandardScaler(), ['backers','usd_goal_real', 'nameLength', 'launchTime', 'deadlineTime', 'projectLength']))\n",
    "#see if it is working\n",
    "print(prepro1.fit_transform(X_train1).toarray()[0])\n"
   ]
  },
  {
   "cell_type": "code",
   "execution_count": 23,
   "metadata": {},
   "outputs": [
    {
     "name": "stderr",
     "output_type": "stream",
     "text": [
      "/Users/Tinaisha/opt/anaconda3/lib/python3.8/site-packages/sklearn/linear_model/_logistic.py:762: ConvergenceWarning: lbfgs failed to converge (status=1):\n",
      "STOP: TOTAL NO. of ITERATIONS REACHED LIMIT.\n",
      "\n",
      "Increase the number of iterations (max_iter) or scale the data as shown in:\n",
      "    https://scikit-learn.org/stable/modules/preprocessing.html\n",
      "Please also refer to the documentation for alternative solver options:\n",
      "    https://scikit-learn.org/stable/modules/linear_model.html#logistic-regression\n",
      "  n_iter_i = _check_optimize_result(\n"
     ]
    },
    {
     "name": "stdout",
     "output_type": "stream",
     "text": [
      "The accuracy of the model in training set: 86.30384412633678 %\n",
      "The accuracy of the model in validation set: 86.30575851190768 %\n"
     ]
    }
   ],
   "source": [
    "model1 = make_pipeline(prepro1, LogisticRegression(max_iter=200, multi_class='auto'))\n",
    "\n",
    "model1.fit(X_train1, y_train1)\n",
    "\n",
    "predictVal = model1.score(X_val1,y_val1)\n",
    "predictTrain = model1.score(X_train1,y_train1)\n",
    "print('The accuracy of the model in training set: ' + str(predictTrain*100)+ ' %')\n",
    "print('The accuracy of the model in validation set: ' + str(predictVal*100)+ ' %')"
   ]
  },
  {
   "cell_type": "code",
   "execution_count": 26,
   "metadata": {},
   "outputs": [
    {
     "name": "stderr",
     "output_type": "stream",
     "text": [
      "/Users/Tinaisha/opt/anaconda3/lib/python3.8/site-packages/sklearn/linear_model/_logistic.py:762: ConvergenceWarning: lbfgs failed to converge (status=1):\n",
      "STOP: TOTAL NO. of ITERATIONS REACHED LIMIT.\n",
      "\n",
      "Increase the number of iterations (max_iter) or scale the data as shown in:\n",
      "    https://scikit-learn.org/stable/modules/preprocessing.html\n",
      "Please also refer to the documentation for alternative solver options:\n",
      "    https://scikit-learn.org/stable/modules/linear_model.html#logistic-regression\n",
      "  n_iter_i = _check_optimize_result(\n"
     ]
    },
    {
     "name": "stdout",
     "output_type": "stream",
     "text": [
      "validation score for max iter = 1 is 0.6033769757596561\n"
     ]
    },
    {
     "name": "stderr",
     "output_type": "stream",
     "text": [
      "/Users/Tinaisha/opt/anaconda3/lib/python3.8/site-packages/sklearn/linear_model/_logistic.py:762: ConvergenceWarning: lbfgs failed to converge (status=1):\n",
      "STOP: TOTAL NO. of ITERATIONS REACHED LIMIT.\n",
      "\n",
      "Increase the number of iterations (max_iter) or scale the data as shown in:\n",
      "    https://scikit-learn.org/stable/modules/preprocessing.html\n",
      "Please also refer to the documentation for alternative solver options:\n",
      "    https://scikit-learn.org/stable/modules/linear_model.html#logistic-regression\n",
      "  n_iter_i = _check_optimize_result(\n"
     ]
    },
    {
     "name": "stdout",
     "output_type": "stream",
     "text": [
      "validation score for max iter = 5 is 0.6785334837117312\n"
     ]
    },
    {
     "name": "stderr",
     "output_type": "stream",
     "text": [
      "/Users/Tinaisha/opt/anaconda3/lib/python3.8/site-packages/sklearn/linear_model/_logistic.py:762: ConvergenceWarning: lbfgs failed to converge (status=1):\n",
      "STOP: TOTAL NO. of ITERATIONS REACHED LIMIT.\n",
      "\n",
      "Increase the number of iterations (max_iter) or scale the data as shown in:\n",
      "    https://scikit-learn.org/stable/modules/preprocessing.html\n",
      "Please also refer to the documentation for alternative solver options:\n",
      "    https://scikit-learn.org/stable/modules/linear_model.html#logistic-regression\n",
      "  n_iter_i = _check_optimize_result(\n"
     ]
    },
    {
     "name": "stdout",
     "output_type": "stream",
     "text": [
      "validation score for max iter = 10 is 0.7519246800372676\n"
     ]
    },
    {
     "name": "stderr",
     "output_type": "stream",
     "text": [
      "/Users/Tinaisha/opt/anaconda3/lib/python3.8/site-packages/sklearn/linear_model/_logistic.py:762: ConvergenceWarning: lbfgs failed to converge (status=1):\n",
      "STOP: TOTAL NO. of ITERATIONS REACHED LIMIT.\n",
      "\n",
      "Increase the number of iterations (max_iter) or scale the data as shown in:\n",
      "    https://scikit-learn.org/stable/modules/preprocessing.html\n",
      "Please also refer to the documentation for alternative solver options:\n",
      "    https://scikit-learn.org/stable/modules/linear_model.html#logistic-regression\n",
      "  n_iter_i = _check_optimize_result(\n"
     ]
    },
    {
     "name": "stdout",
     "output_type": "stream",
     "text": [
      "validation score for max iter = 100 is 0.85859526961866\n"
     ]
    },
    {
     "name": "stderr",
     "output_type": "stream",
     "text": [
      "/Users/Tinaisha/opt/anaconda3/lib/python3.8/site-packages/sklearn/linear_model/_logistic.py:762: ConvergenceWarning: lbfgs failed to converge (status=1):\n",
      "STOP: TOTAL NO. of ITERATIONS REACHED LIMIT.\n",
      "\n",
      "Increase the number of iterations (max_iter) or scale the data as shown in:\n",
      "    https://scikit-learn.org/stable/modules/preprocessing.html\n",
      "Please also refer to the documentation for alternative solver options:\n",
      "    https://scikit-learn.org/stable/modules/linear_model.html#logistic-regression\n",
      "  n_iter_i = _check_optimize_result(\n"
     ]
    },
    {
     "name": "stdout",
     "output_type": "stream",
     "text": [
      "validation score for max iter = 200 is 0.8630575851190768\n"
     ]
    },
    {
     "name": "stderr",
     "output_type": "stream",
     "text": [
      "/Users/Tinaisha/opt/anaconda3/lib/python3.8/site-packages/sklearn/linear_model/_logistic.py:762: ConvergenceWarning: lbfgs failed to converge (status=1):\n",
      "STOP: TOTAL NO. of ITERATIONS REACHED LIMIT.\n",
      "\n",
      "Increase the number of iterations (max_iter) or scale the data as shown in:\n",
      "    https://scikit-learn.org/stable/modules/preprocessing.html\n",
      "Please also refer to the documentation for alternative solver options:\n",
      "    https://scikit-learn.org/stable/modules/linear_model.html#logistic-regression\n",
      "  n_iter_i = _check_optimize_result(\n"
     ]
    },
    {
     "name": "stdout",
     "output_type": "stream",
     "text": [
      "validation score for max iter = 300 is 0.8638748590202521\n"
     ]
    },
    {
     "name": "stderr",
     "output_type": "stream",
     "text": [
      "/Users/Tinaisha/opt/anaconda3/lib/python3.8/site-packages/sklearn/linear_model/_logistic.py:762: ConvergenceWarning: lbfgs failed to converge (status=1):\n",
      "STOP: TOTAL NO. of ITERATIONS REACHED LIMIT.\n",
      "\n",
      "Increase the number of iterations (max_iter) or scale the data as shown in:\n",
      "    https://scikit-learn.org/stable/modules/preprocessing.html\n",
      "Please also refer to the documentation for alternative solver options:\n",
      "    https://scikit-learn.org/stable/modules/linear_model.html#logistic-regression\n",
      "  n_iter_i = _check_optimize_result(\n"
     ]
    },
    {
     "name": "stdout",
     "output_type": "stream",
     "text": [
      "validation score for max iter = 400 is 0.8641854231026986\n"
     ]
    },
    {
     "name": "stderr",
     "output_type": "stream",
     "text": [
      "/Users/Tinaisha/opt/anaconda3/lib/python3.8/site-packages/sklearn/linear_model/_logistic.py:762: ConvergenceWarning: lbfgs failed to converge (status=1):\n",
      "STOP: TOTAL NO. of ITERATIONS REACHED LIMIT.\n",
      "\n",
      "Increase the number of iterations (max_iter) or scale the data as shown in:\n",
      "    https://scikit-learn.org/stable/modules/preprocessing.html\n",
      "Please also refer to the documentation for alternative solver options:\n",
      "    https://scikit-learn.org/stable/modules/linear_model.html#logistic-regression\n",
      "  n_iter_i = _check_optimize_result(\n"
     ]
    },
    {
     "name": "stdout",
     "output_type": "stream",
     "text": [
      "validation score for max iter = 500 is 0.8646430964873568\n"
     ]
    },
    {
     "name": "stderr",
     "output_type": "stream",
     "text": [
      "/Users/Tinaisha/opt/anaconda3/lib/python3.8/site-packages/sklearn/linear_model/_logistic.py:762: ConvergenceWarning: lbfgs failed to converge (status=1):\n",
      "STOP: TOTAL NO. of ITERATIONS REACHED LIMIT.\n",
      "\n",
      "Increase the number of iterations (max_iter) or scale the data as shown in:\n",
      "    https://scikit-learn.org/stable/modules/preprocessing.html\n",
      "Please also refer to the documentation for alternative solver options:\n",
      "    https://scikit-learn.org/stable/modules/linear_model.html#logistic-regression\n",
      "  n_iter_i = _check_optimize_result(\n"
     ]
    },
    {
     "name": "stdout",
     "output_type": "stream",
     "text": [
      "validation score for max iter = 800 is 0.8649700060478269\n"
     ]
    },
    {
     "name": "stderr",
     "output_type": "stream",
     "text": [
      "/Users/Tinaisha/opt/anaconda3/lib/python3.8/site-packages/sklearn/linear_model/_logistic.py:762: ConvergenceWarning: lbfgs failed to converge (status=1):\n",
      "STOP: TOTAL NO. of ITERATIONS REACHED LIMIT.\n",
      "\n",
      "Increase the number of iterations (max_iter) or scale the data as shown in:\n",
      "    https://scikit-learn.org/stable/modules/preprocessing.html\n",
      "Please also refer to the documentation for alternative solver options:\n",
      "    https://scikit-learn.org/stable/modules/linear_model.html#logistic-regression\n",
      "  n_iter_i = _check_optimize_result(\n"
     ]
    },
    {
     "name": "stdout",
     "output_type": "stream",
     "text": [
      "validation score for max iter = 1000 is 0.8651334608280619\n"
     ]
    }
   ],
   "source": [
    "max_iter = [1,5,10,100,200,300,400,500,800,1000]\n",
    "\n",
    "results = np.zeros((len(max_iter),2))\n",
    "converg = np.zeros((len(max_iter)))\n",
    "for i in range(len(max_iter)):\n",
    "    model = make_pipeline(prepro1, LogisticRegression(max_iter=max_iter[i], multi_class='auto'))\n",
    "    model.fit(X_train1, y_train1)\n",
    "\n",
    "    results[i,0] = model.score(X_val1,y_val1)\n",
    "    results[i,1] = model.score(X_train1,y_train1)\n",
    "    converg[i] = model[1].n_iter_\n",
    "    print(f'validation score for max iter = {max_iter[i]} is {results[i,0]}')"
   ]
  },
  {
   "cell_type": "code",
   "execution_count": 27,
   "metadata": {},
   "outputs": [
    {
     "data": {
      "image/png": "[encoded data removed]",
      "text/plain": [
       "<Figure size 432x288 with 1 Axes>"
      ]
     },
     "metadata": {
      "needs_background": "light"
     },
     "output_type": "display_data"
    }
   ],
   "source": [
    "plt.plot(max_iter, results[:,0], label = 'validation accuracy')\n",
    "plt.plot(max_iter, results[:,1], label = 'training accuracy')\n",
    "plt.legend()\n",
    "plt.show()"
   ]
  },
  {
   "cell_type": "markdown",
   "metadata": {},
   "source": [
    "at 1000 max_iter, the model does not converge but it seems to hit the plateau at 200, meaning it could be used as early stop\n",
    "\n",
    "Now we start to hypertune some other parameters"
   ]
  },
  {
   "cell_type": "code",
   "execution_count": 30,
   "metadata": {},
   "outputs": [
    {
     "name": "stdout",
     "output_type": "stream",
     "text": [
      "index for sovler newton-cg,c value 100 and pennalty l2 is 1, run time 344.42244505882263\n",
      "index for sovler newton-cg,c value 10 and pennalty l2 is 2, run time 171.33765506744385\n",
      "index for sovler newton-cg,c value 1.0 and pennalty l2 is 3, run time 83.91687083244324\n",
      "index for sovler newton-cg,c value 0.1 and pennalty l2 is 4, run time 43.98563289642334\n",
      "index for sovler newton-cg,c value 0.01 and pennalty l2 is 5, run time 27.969404935836792\n"
     ]
    },
    {
     "name": "stderr",
     "output_type": "stream",
     "text": [
      "/Users/Tinaisha/opt/anaconda3/lib/python3.8/site-packages/sklearn/linear_model/_logistic.py:762: ConvergenceWarning: lbfgs failed to converge (status=1):\n",
      "STOP: TOTAL NO. of ITERATIONS REACHED LIMIT.\n",
      "\n",
      "Increase the number of iterations (max_iter) or scale the data as shown in:\n",
      "    https://scikit-learn.org/stable/modules/preprocessing.html\n",
      "Please also refer to the documentation for alternative solver options:\n",
      "    https://scikit-learn.org/stable/modules/linear_model.html#logistic-regression\n",
      "  n_iter_i = _check_optimize_result(\n"
     ]
    },
    {
     "name": "stdout",
     "output_type": "stream",
     "text": [
      "index for sovler lbfgs,c value 100 and pennalty l2 is 6, run time 21.655200004577637\n"
     ]
    },
    {
     "name": "stderr",
     "output_type": "stream",
     "text": [
      "/Users/Tinaisha/opt/anaconda3/lib/python3.8/site-packages/sklearn/linear_model/_logistic.py:762: ConvergenceWarning: lbfgs failed to converge (status=1):\n",
      "STOP: TOTAL NO. of ITERATIONS REACHED LIMIT.\n",
      "\n",
      "Increase the number of iterations (max_iter) or scale the data as shown in:\n",
      "    https://scikit-learn.org/stable/modules/preprocessing.html\n",
      "Please also refer to the documentation for alternative solver options:\n",
      "    https://scikit-learn.org/stable/modules/linear_model.html#logistic-regression\n",
      "  n_iter_i = _check_optimize_result(\n"
     ]
    },
    {
     "name": "stdout",
     "output_type": "stream",
     "text": [
      "index for sovler lbfgs,c value 10 and pennalty l2 is 7, run time 21.75910496711731\n"
     ]
    },
    {
     "name": "stderr",
     "output_type": "stream",
     "text": [
      "/Users/Tinaisha/opt/anaconda3/lib/python3.8/site-packages/sklearn/linear_model/_logistic.py:762: ConvergenceWarning: lbfgs failed to converge (status=1):\n",
      "STOP: TOTAL NO. of ITERATIONS REACHED LIMIT.\n",
      "\n",
      "Increase the number of iterations (max_iter) or scale the data as shown in:\n",
      "    https://scikit-learn.org/stable/modules/preprocessing.html\n",
      "Please also refer to the documentation for alternative solver options:\n",
      "    https://scikit-learn.org/stable/modules/linear_model.html#logistic-regression\n",
      "  n_iter_i = _check_optimize_result(\n"
     ]
    },
    {
     "name": "stdout",
     "output_type": "stream",
     "text": [
      "index for sovler lbfgs,c value 1.0 and pennalty l2 is 8, run time 21.526055097579956\n"
     ]
    },
    {
     "name": "stderr",
     "output_type": "stream",
     "text": [
      "/Users/Tinaisha/opt/anaconda3/lib/python3.8/site-packages/sklearn/linear_model/_logistic.py:762: ConvergenceWarning: lbfgs failed to converge (status=1):\n",
      "STOP: TOTAL NO. of ITERATIONS REACHED LIMIT.\n",
      "\n",
      "Increase the number of iterations (max_iter) or scale the data as shown in:\n",
      "    https://scikit-learn.org/stable/modules/preprocessing.html\n",
      "Please also refer to the documentation for alternative solver options:\n",
      "    https://scikit-learn.org/stable/modules/linear_model.html#logistic-regression\n",
      "  n_iter_i = _check_optimize_result(\n"
     ]
    },
    {
     "name": "stdout",
     "output_type": "stream",
     "text": [
      "index for sovler lbfgs,c value 0.1 and pennalty l2 is 9, run time 21.036686897277832\n",
      "index for sovler lbfgs,c value 0.01 and pennalty l2 is 10, run time 17.528189182281494\n"
     ]
    },
    {
     "name": "stderr",
     "output_type": "stream",
     "text": [
      "/Users/Tinaisha/opt/anaconda3/lib/python3.8/site-packages/sklearn/svm/_base.py:976: ConvergenceWarning: Liblinear failed to converge, increase the number of iterations.\n",
      "  warnings.warn(\"Liblinear failed to converge, increase \"\n"
     ]
    },
    {
     "name": "stdout",
     "output_type": "stream",
     "text": [
      "index for sovler liblinear,c value 100 and pennalty l2 is 11, run time 26.947352170944214\n",
      "index for sovler liblinear,c value 10 and pennalty l2 is 12, run time 15.865797281265259\n"
     ]
    },
    {
     "name": "stderr",
     "output_type": "stream",
     "text": [
      "/Users/Tinaisha/opt/anaconda3/lib/python3.8/site-packages/sklearn/svm/_base.py:976: ConvergenceWarning: Liblinear failed to converge, increase the number of iterations.\n",
      "  warnings.warn(\"Liblinear failed to converge, increase \"\n"
     ]
    },
    {
     "name": "stdout",
     "output_type": "stream",
     "text": [
      "index for sovler liblinear,c value 1.0 and pennalty l2 is 13, run time 17.984627962112427\n",
      "index for sovler liblinear,c value 0.1 and pennalty l2 is 14, run time 9.352125883102417\n",
      "index for sovler liblinear,c value 0.01 and pennalty l2 is 15, run time 6.167003870010376\n"
     ]
    },
    {
     "name": "stderr",
     "output_type": "stream",
     "text": [
      "/Users/Tinaisha/opt/anaconda3/lib/python3.8/site-packages/sklearn/linear_model/_sag.py:329: ConvergenceWarning: The max_iter was reached which means the coef_ did not converge\n",
      "  warnings.warn(\"The max_iter was reached which means \"\n"
     ]
    },
    {
     "name": "stdout",
     "output_type": "stream",
     "text": [
      "index for sovler sag,c value 100 and pennalty l2 is 16, run time 36.56070303916931\n"
     ]
    },
    {
     "name": "stderr",
     "output_type": "stream",
     "text": [
      "/Users/Tinaisha/opt/anaconda3/lib/python3.8/site-packages/sklearn/linear_model/_sag.py:329: ConvergenceWarning: The max_iter was reached which means the coef_ did not converge\n",
      "  warnings.warn(\"The max_iter was reached which means \"\n"
     ]
    },
    {
     "name": "stdout",
     "output_type": "stream",
     "text": [
      "index for sovler sag,c value 10 and pennalty l2 is 17, run time 36.506760120391846\n"
     ]
    },
    {
     "name": "stderr",
     "output_type": "stream",
     "text": [
      "/Users/Tinaisha/opt/anaconda3/lib/python3.8/site-packages/sklearn/linear_model/_sag.py:329: ConvergenceWarning: The max_iter was reached which means the coef_ did not converge\n",
      "  warnings.warn(\"The max_iter was reached which means \"\n"
     ]
    },
    {
     "name": "stdout",
     "output_type": "stream",
     "text": [
      "index for sovler sag,c value 1.0 and pennalty l2 is 18, run time 36.5547513961792\n"
     ]
    },
    {
     "name": "stderr",
     "output_type": "stream",
     "text": [
      "/Users/Tinaisha/opt/anaconda3/lib/python3.8/site-packages/sklearn/linear_model/_sag.py:329: ConvergenceWarning: The max_iter was reached which means the coef_ did not converge\n",
      "  warnings.warn(\"The max_iter was reached which means \"\n"
     ]
    },
    {
     "name": "stdout",
     "output_type": "stream",
     "text": [
      "index for sovler sag,c value 0.1 and pennalty l2 is 19, run time 44.23740530014038\n"
     ]
    },
    {
     "name": "stderr",
     "output_type": "stream",
     "text": [
      "/Users/Tinaisha/opt/anaconda3/lib/python3.8/site-packages/sklearn/linear_model/_sag.py:329: ConvergenceWarning: The max_iter was reached which means the coef_ did not converge\n",
      "  warnings.warn(\"The max_iter was reached which means \"\n"
     ]
    },
    {
     "name": "stdout",
     "output_type": "stream",
     "text": [
      "index for sovler sag,c value 0.01 and pennalty l2 is 20, run time 37.30616092681885\n"
     ]
    },
    {
     "name": "stderr",
     "output_type": "stream",
     "text": [
      "/Users/Tinaisha/opt/anaconda3/lib/python3.8/site-packages/sklearn/linear_model/_sag.py:329: ConvergenceWarning: The max_iter was reached which means the coef_ did not converge\n",
      "  warnings.warn(\"The max_iter was reached which means \"\n"
     ]
    },
    {
     "name": "stdout",
     "output_type": "stream",
     "text": [
      "index for sovler saga,c value 100 and pennalty l2 is 21, run time 38.70933723449707\n"
     ]
    },
    {
     "name": "stderr",
     "output_type": "stream",
     "text": [
      "/Users/Tinaisha/opt/anaconda3/lib/python3.8/site-packages/sklearn/linear_model/_sag.py:329: ConvergenceWarning: The max_iter was reached which means the coef_ did not converge\n",
      "  warnings.warn(\"The max_iter was reached which means \"\n"
     ]
    },
    {
     "name": "stdout",
     "output_type": "stream",
     "text": [
      "index for sovler saga,c value 10 and pennalty l2 is 22, run time 38.44634175300598\n"
     ]
    },
    {
     "name": "stderr",
     "output_type": "stream",
     "text": [
      "/Users/Tinaisha/opt/anaconda3/lib/python3.8/site-packages/sklearn/linear_model/_sag.py:329: ConvergenceWarning: The max_iter was reached which means the coef_ did not converge\n",
      "  warnings.warn(\"The max_iter was reached which means \"\n"
     ]
    },
    {
     "name": "stdout",
     "output_type": "stream",
     "text": [
      "index for sovler saga,c value 1.0 and pennalty l2 is 23, run time 38.354326009750366\n"
     ]
    },
    {
     "name": "stderr",
     "output_type": "stream",
     "text": [
      "/Users/Tinaisha/opt/anaconda3/lib/python3.8/site-packages/sklearn/linear_model/_sag.py:329: ConvergenceWarning: The max_iter was reached which means the coef_ did not converge\n",
      "  warnings.warn(\"The max_iter was reached which means \"\n"
     ]
    },
    {
     "name": "stdout",
     "output_type": "stream",
     "text": [
      "index for sovler saga,c value 0.1 and pennalty l2 is 24, run time 38.293540239334106\n"
     ]
    },
    {
     "name": "stderr",
     "output_type": "stream",
     "text": [
      "/Users/Tinaisha/opt/anaconda3/lib/python3.8/site-packages/sklearn/linear_model/_sag.py:329: ConvergenceWarning: The max_iter was reached which means the coef_ did not converge\n",
      "  warnings.warn(\"The max_iter was reached which means \"\n"
     ]
    },
    {
     "name": "stdout",
     "output_type": "stream",
     "text": [
      "index for sovler saga,c value 0.01 and pennalty l2 is 25, run time 38.4523868560791\n"
     ]
    }
   ],
   "source": [
    "#Simple hypertune\n",
    "solvers = ['newton-cg', 'lbfgs', 'liblinear','sag', 'saga']\n",
    "penalty = ['l2']\n",
    "c_values = [100, 10, 1.0, 0.1,0.01]\n",
    "#running all specification and comparing their validation accuracy\n",
    "results = np.zeros((40,2))\n",
    "i = 0\n",
    "for sol in solvers:\n",
    "    for c in c_values:\n",
    "        for pen in penalty:\n",
    "            begin = time.time()\n",
    "            logic = LogisticRegression(solver = sol, penalty = pen, C=c,max_iter=200,multi_class='auto')\n",
    "            model = make_pipeline(prepro1, logic)\n",
    "            model.fit(X_train1, y_train1)\n",
    "            results[i,0] = model.score(X_val1,y_val1)\n",
    "            results[i,1] = model.score(X_train1,y_train1)\n",
    "            i+=1\n",
    "            end = time.time()\n",
    "            print(f'index for sovler {sol},c value {c} and pennalty {pen} is {i}, run time {end-begin}')\n",
    "        "
   ]
  },
  {
   "cell_type": "code",
   "execution_count": 33,
   "metadata": {},
   "outputs": [
    {
     "name": "stdout",
     "output_type": "stream",
     "text": [
      "[[ 1.          0.88602298  0.88572643]\n",
      " [ 2.          0.88277023  0.88159094]\n",
      " [ 3.          0.86506808  0.86452591]\n",
      " [ 4.          0.83167427  0.83224293]\n",
      " [ 5.          0.79442292  0.79549755]\n",
      " [ 6.          0.88659507  0.88651103]\n",
      " [ 7.          0.88116837  0.88063471]\n",
      " [ 8.          0.86305759  0.86303844]\n",
      " [ 9.          0.83170696  0.83230423]\n",
      " [10.          0.79445561  0.79549755]\n",
      " [11.          0.8615538   0.86092166]\n",
      " [12.          0.86145573  0.86076229]\n",
      " [13.          0.8440151   0.8438975 ]\n",
      " [14.          0.81830367  0.81879441]\n",
      " [15.          0.77972834  0.78062694]\n",
      " [16.          0.7771621   0.77774191]\n",
      " [17.          0.7771621   0.77773782]\n",
      " [18.          0.77712941  0.77769696]\n",
      " [19.          0.77676981  0.77718615]\n",
      " [20.          0.77142484  0.77209443]\n",
      " [21.          0.76143775  0.76141653]\n",
      " [22.          0.76140506  0.7614247 ]\n",
      " [23.          0.76138871  0.76137566]\n",
      " [24.          0.76119257  0.76106509]\n",
      " [25.          0.75860998  0.75829039]]\n"
     ]
    }
   ],
   "source": [
    "\n",
    "print(np.concatenate((np.arange(1,26).reshape(25,1), results[:25,:]),axis=1))"
   ]
  },
  {
   "cell_type": "markdown",
   "metadata": {},
   "source": [
    "liblinear with l1 took too much time and converges much slower ==> not worth running\n",
    "\n",
    "Other options\n"
   ]
  },
  {
   "cell_type": "code",
   "execution_count": 79,
   "metadata": {},
   "outputs": [
    {
     "name": "stderr",
     "output_type": "stream",
     "text": [
      "/Users/Tinaisha/opt/anaconda3/lib/python3.8/site-packages/sklearn/linear_model/_logistic.py:762: ConvergenceWarning: lbfgs failed to converge (status=1):\n",
      "STOP: TOTAL NO. of ITERATIONS REACHED LIMIT.\n",
      "\n",
      "Increase the number of iterations (max_iter) or scale the data as shown in:\n",
      "    https://scikit-learn.org/stable/modules/preprocessing.html\n",
      "Please also refer to the documentation for alternative solver options:\n",
      "    https://scikit-learn.org/stable/modules/linear_model.html#logistic-regression\n",
      "  n_iter_i = _check_optimize_result(\n"
     ]
    },
    {
     "name": "stdout",
     "output_type": "stream",
     "text": [
      "run time is 22.458029985427856\n",
      "The accuracy of the model in training set: 88.39855993396291 %\n",
      "The accuracy of the model in validation set: 88.37509602968339 %\n"
     ]
    }
   ],
   "source": [
    "model1 = make_pipeline(prepro1, LogisticRegression(max_iter=200,penalty = 'none',multi_class='auto'))\n",
    "begin = time.time()\n",
    "model1.fit(X_train1, y_train1)\n",
    "print(f'run time is {time.time()-begin}')\n",
    "predictVal = model1.score(X_val1,y_val1)\n",
    "predictTrain = model1.score(X_train1,y_train1)\n",
    "print('The accuracy of the model in training set: ' + str(predictTrain*100)+ ' %')\n",
    "print('The accuracy of the model in validation set: ' + str(predictVal*100)+ ' %')"
   ]
  },
  {
   "cell_type": "code",
   "execution_count": 14,
   "metadata": {},
   "outputs": [
    {
     "name": "stderr",
     "output_type": "stream",
     "text": [
      "/Users/Tinaisha/opt/anaconda3/lib/python3.8/site-packages/sklearn/linear_model/_logistic.py:762: ConvergenceWarning: lbfgs failed to converge (status=1):\n",
      "STOP: TOTAL NO. of ITERATIONS REACHED LIMIT.\n",
      "\n",
      "Increase the number of iterations (max_iter) or scale the data as shown in:\n",
      "    https://scikit-learn.org/stable/modules/preprocessing.html\n",
      "Please also refer to the documentation for alternative solver options:\n",
      "    https://scikit-learn.org/stable/modules/linear_model.html#logistic-regression\n",
      "  n_iter_i = _check_optimize_result(\n"
     ]
    },
    {
     "name": "stdout",
     "output_type": "stream",
     "text": [
      "index for c value 50 is 1, run time 30.245121955871582\n"
     ]
    },
    {
     "name": "stderr",
     "output_type": "stream",
     "text": [
      "/Users/Tinaisha/opt/anaconda3/lib/python3.8/site-packages/sklearn/linear_model/_logistic.py:762: ConvergenceWarning: lbfgs failed to converge (status=1):\n",
      "STOP: TOTAL NO. of ITERATIONS REACHED LIMIT.\n",
      "\n",
      "Increase the number of iterations (max_iter) or scale the data as shown in:\n",
      "    https://scikit-learn.org/stable/modules/preprocessing.html\n",
      "Please also refer to the documentation for alternative solver options:\n",
      "    https://scikit-learn.org/stable/modules/linear_model.html#logistic-regression\n",
      "  n_iter_i = _check_optimize_result(\n"
     ]
    },
    {
     "name": "stdout",
     "output_type": "stream",
     "text": [
      "index for c value 80 is 2, run time 24.23944592475891\n"
     ]
    },
    {
     "name": "stderr",
     "output_type": "stream",
     "text": [
      "/Users/Tinaisha/opt/anaconda3/lib/python3.8/site-packages/sklearn/linear_model/_logistic.py:762: ConvergenceWarning: lbfgs failed to converge (status=1):\n",
      "STOP: TOTAL NO. of ITERATIONS REACHED LIMIT.\n",
      "\n",
      "Increase the number of iterations (max_iter) or scale the data as shown in:\n",
      "    https://scikit-learn.org/stable/modules/preprocessing.html\n",
      "Please also refer to the documentation for alternative solver options:\n",
      "    https://scikit-learn.org/stable/modules/linear_model.html#logistic-regression\n",
      "  n_iter_i = _check_optimize_result(\n"
     ]
    },
    {
     "name": "stdout",
     "output_type": "stream",
     "text": [
      "index for c value 100 is 3, run time 26.92313289642334\n"
     ]
    },
    {
     "name": "stderr",
     "output_type": "stream",
     "text": [
      "/Users/Tinaisha/opt/anaconda3/lib/python3.8/site-packages/sklearn/linear_model/_logistic.py:762: ConvergenceWarning: lbfgs failed to converge (status=1):\n",
      "STOP: TOTAL NO. of ITERATIONS REACHED LIMIT.\n",
      "\n",
      "Increase the number of iterations (max_iter) or scale the data as shown in:\n",
      "    https://scikit-learn.org/stable/modules/preprocessing.html\n",
      "Please also refer to the documentation for alternative solver options:\n",
      "    https://scikit-learn.org/stable/modules/linear_model.html#logistic-regression\n",
      "  n_iter_i = _check_optimize_result(\n"
     ]
    },
    {
     "name": "stdout",
     "output_type": "stream",
     "text": [
      "index for c value 120 is 4, run time 25.680221796035767\n"
     ]
    },
    {
     "name": "stderr",
     "output_type": "stream",
     "text": [
      "/Users/Tinaisha/opt/anaconda3/lib/python3.8/site-packages/sklearn/linear_model/_logistic.py:762: ConvergenceWarning: lbfgs failed to converge (status=1):\n",
      "STOP: TOTAL NO. of ITERATIONS REACHED LIMIT.\n",
      "\n",
      "Increase the number of iterations (max_iter) or scale the data as shown in:\n",
      "    https://scikit-learn.org/stable/modules/preprocessing.html\n",
      "Please also refer to the documentation for alternative solver options:\n",
      "    https://scikit-learn.org/stable/modules/linear_model.html#logistic-regression\n",
      "  n_iter_i = _check_optimize_result(\n"
     ]
    },
    {
     "name": "stdout",
     "output_type": "stream",
     "text": [
      "index for c value 150 is 5, run time 23.441079139709473\n"
     ]
    },
    {
     "name": "stderr",
     "output_type": "stream",
     "text": [
      "/Users/Tinaisha/opt/anaconda3/lib/python3.8/site-packages/sklearn/linear_model/_logistic.py:762: ConvergenceWarning: lbfgs failed to converge (status=1):\n",
      "STOP: TOTAL NO. of ITERATIONS REACHED LIMIT.\n",
      "\n",
      "Increase the number of iterations (max_iter) or scale the data as shown in:\n",
      "    https://scikit-learn.org/stable/modules/preprocessing.html\n",
      "Please also refer to the documentation for alternative solver options:\n",
      "    https://scikit-learn.org/stable/modules/linear_model.html#logistic-regression\n",
      "  n_iter_i = _check_optimize_result(\n"
     ]
    },
    {
     "name": "stdout",
     "output_type": "stream",
     "text": [
      "index for c value 200 is 6, run time 22.809834003448486\n"
     ]
    },
    {
     "name": "stderr",
     "output_type": "stream",
     "text": [
      "/Users/Tinaisha/opt/anaconda3/lib/python3.8/site-packages/sklearn/linear_model/_logistic.py:762: ConvergenceWarning: lbfgs failed to converge (status=1):\n",
      "STOP: TOTAL NO. of ITERATIONS REACHED LIMIT.\n",
      "\n",
      "Increase the number of iterations (max_iter) or scale the data as shown in:\n",
      "    https://scikit-learn.org/stable/modules/preprocessing.html\n",
      "Please also refer to the documentation for alternative solver options:\n",
      "    https://scikit-learn.org/stable/modules/linear_model.html#logistic-regression\n",
      "  n_iter_i = _check_optimize_result(\n"
     ]
    },
    {
     "name": "stdout",
     "output_type": "stream",
     "text": [
      "index for c value 250 is 7, run time 24.29054307937622\n"
     ]
    },
    {
     "name": "stderr",
     "output_type": "stream",
     "text": [
      "/Users/Tinaisha/opt/anaconda3/lib/python3.8/site-packages/sklearn/linear_model/_logistic.py:762: ConvergenceWarning: lbfgs failed to converge (status=1):\n",
      "STOP: TOTAL NO. of ITERATIONS REACHED LIMIT.\n",
      "\n",
      "Increase the number of iterations (max_iter) or scale the data as shown in:\n",
      "    https://scikit-learn.org/stable/modules/preprocessing.html\n",
      "Please also refer to the documentation for alternative solver options:\n",
      "    https://scikit-learn.org/stable/modules/linear_model.html#logistic-regression\n",
      "  n_iter_i = _check_optimize_result(\n"
     ]
    },
    {
     "name": "stdout",
     "output_type": "stream",
     "text": [
      "index for c value 300 is 8, run time 22.404228687286377\n"
     ]
    },
    {
     "name": "stderr",
     "output_type": "stream",
     "text": [
      "/Users/Tinaisha/opt/anaconda3/lib/python3.8/site-packages/sklearn/linear_model/_logistic.py:762: ConvergenceWarning: lbfgs failed to converge (status=1):\n",
      "STOP: TOTAL NO. of ITERATIONS REACHED LIMIT.\n",
      "\n",
      "Increase the number of iterations (max_iter) or scale the data as shown in:\n",
      "    https://scikit-learn.org/stable/modules/preprocessing.html\n",
      "Please also refer to the documentation for alternative solver options:\n",
      "    https://scikit-learn.org/stable/modules/linear_model.html#logistic-regression\n",
      "  n_iter_i = _check_optimize_result(\n"
     ]
    },
    {
     "name": "stdout",
     "output_type": "stream",
     "text": [
      "index for c value 400 is 9, run time 25.75597310066223\n"
     ]
    },
    {
     "name": "stderr",
     "output_type": "stream",
     "text": [
      "/Users/Tinaisha/opt/anaconda3/lib/python3.8/site-packages/sklearn/linear_model/_logistic.py:762: ConvergenceWarning: lbfgs failed to converge (status=1):\n",
      "STOP: TOTAL NO. of ITERATIONS REACHED LIMIT.\n",
      "\n",
      "Increase the number of iterations (max_iter) or scale the data as shown in:\n",
      "    https://scikit-learn.org/stable/modules/preprocessing.html\n",
      "Please also refer to the documentation for alternative solver options:\n",
      "    https://scikit-learn.org/stable/modules/linear_model.html#logistic-regression\n",
      "  n_iter_i = _check_optimize_result(\n"
     ]
    },
    {
     "name": "stdout",
     "output_type": "stream",
     "text": [
      "index for c value 500 is 10, run time 29.57860779762268\n"
     ]
    },
    {
     "name": "stderr",
     "output_type": "stream",
     "text": [
      "/Users/Tinaisha/opt/anaconda3/lib/python3.8/site-packages/sklearn/linear_model/_logistic.py:762: ConvergenceWarning: lbfgs failed to converge (status=1):\n",
      "STOP: TOTAL NO. of ITERATIONS REACHED LIMIT.\n",
      "\n",
      "Increase the number of iterations (max_iter) or scale the data as shown in:\n",
      "    https://scikit-learn.org/stable/modules/preprocessing.html\n",
      "Please also refer to the documentation for alternative solver options:\n",
      "    https://scikit-learn.org/stable/modules/linear_model.html#logistic-regression\n",
      "  n_iter_i = _check_optimize_result(\n"
     ]
    },
    {
     "name": "stdout",
     "output_type": "stream",
     "text": [
      "index for c value 600 is 11, run time 31.350453853607178\n"
     ]
    },
    {
     "name": "stderr",
     "output_type": "stream",
     "text": [
      "/Users/Tinaisha/opt/anaconda3/lib/python3.8/site-packages/sklearn/linear_model/_logistic.py:762: ConvergenceWarning: lbfgs failed to converge (status=1):\n",
      "STOP: TOTAL NO. of ITERATIONS REACHED LIMIT.\n",
      "\n",
      "Increase the number of iterations (max_iter) or scale the data as shown in:\n",
      "    https://scikit-learn.org/stable/modules/preprocessing.html\n",
      "Please also refer to the documentation for alternative solver options:\n",
      "    https://scikit-learn.org/stable/modules/linear_model.html#logistic-regression\n",
      "  n_iter_i = _check_optimize_result(\n"
     ]
    },
    {
     "name": "stdout",
     "output_type": "stream",
     "text": [
      "index for c value 700 is 12, run time 31.867937088012695\n"
     ]
    },
    {
     "name": "stderr",
     "output_type": "stream",
     "text": [
      "/Users/Tinaisha/opt/anaconda3/lib/python3.8/site-packages/sklearn/linear_model/_logistic.py:762: ConvergenceWarning: lbfgs failed to converge (status=1):\n",
      "STOP: TOTAL NO. of ITERATIONS REACHED LIMIT.\n",
      "\n",
      "Increase the number of iterations (max_iter) or scale the data as shown in:\n",
      "    https://scikit-learn.org/stable/modules/preprocessing.html\n",
      "Please also refer to the documentation for alternative solver options:\n",
      "    https://scikit-learn.org/stable/modules/linear_model.html#logistic-regression\n",
      "  n_iter_i = _check_optimize_result(\n"
     ]
    },
    {
     "name": "stdout",
     "output_type": "stream",
     "text": [
      "index for c value 800 is 13, run time 35.39420413970947\n"
     ]
    },
    {
     "name": "stderr",
     "output_type": "stream",
     "text": [
      "/Users/Tinaisha/opt/anaconda3/lib/python3.8/site-packages/sklearn/linear_model/_logistic.py:762: ConvergenceWarning: lbfgs failed to converge (status=1):\n",
      "STOP: TOTAL NO. of ITERATIONS REACHED LIMIT.\n",
      "\n",
      "Increase the number of iterations (max_iter) or scale the data as shown in:\n",
      "    https://scikit-learn.org/stable/modules/preprocessing.html\n",
      "Please also refer to the documentation for alternative solver options:\n",
      "    https://scikit-learn.org/stable/modules/linear_model.html#logistic-regression\n",
      "  n_iter_i = _check_optimize_result(\n"
     ]
    },
    {
     "name": "stdout",
     "output_type": "stream",
     "text": [
      "index for c value 900 is 14, run time 25.56129789352417\n"
     ]
    },
    {
     "name": "stderr",
     "output_type": "stream",
     "text": [
      "/Users/Tinaisha/opt/anaconda3/lib/python3.8/site-packages/sklearn/linear_model/_logistic.py:762: ConvergenceWarning: lbfgs failed to converge (status=1):\n",
      "STOP: TOTAL NO. of ITERATIONS REACHED LIMIT.\n",
      "\n",
      "Increase the number of iterations (max_iter) or scale the data as shown in:\n",
      "    https://scikit-learn.org/stable/modules/preprocessing.html\n",
      "Please also refer to the documentation for alternative solver options:\n",
      "    https://scikit-learn.org/stable/modules/linear_model.html#logistic-regression\n",
      "  n_iter_i = _check_optimize_result(\n"
     ]
    },
    {
     "name": "stdout",
     "output_type": "stream",
     "text": [
      "index for c value 1000 is 15, run time 40.03594183921814\n"
     ]
    },
    {
     "data": {
      "image/png": "[encoded data removed]",
      "text/plain": [
       "<Figure size 432x288 with 1 Axes>"
      ]
     },
     "metadata": {
      "needs_background": "light"
     },
     "output_type": "display_data"
    }
   ],
   "source": [
    "#Simple hypertune\n",
    "c_values = [50, 80, 100,120, 150, 200, 250, 300, 400, 500, 600, 700,800, 900, 1000]\n",
    "#running all specification and comparing their validation accuracy. Note that if liblinear is not worth running with l1,omitted then\n",
    "results = np.zeros((len(c_values),2))\n",
    "i = 0\n",
    "\n",
    "for c in c_values:\n",
    "    begin = time.time()\n",
    "    logic = LogisticRegression(C=c,max_iter=200,multi_class='auto') #default lbfgs with l2 penalty\n",
    "    model = make_pipeline(prepro1, logic)\n",
    "    model.fit(X_train1, y_train1)\n",
    "    results[i,0] = model.score(X_val1,y_val1)\n",
    "    results[i,1] = model.score(X_train1,y_train1)\n",
    "    i+=1\n",
    "    end = time.time()\n",
    "    print(f'index for c value {c} is {i}, run time {end-begin}')\n",
    "    \n"
   ]
  },
  {
   "cell_type": "code",
   "execution_count": 16,
   "metadata": {},
   "outputs": [
    {
     "data": {
      "image/png": "[encoded data removed]",
      "text/plain": [
       "<Figure size 432x288 with 1 Axes>"
      ]
     },
     "metadata": {
      "needs_background": "light"
     },
     "output_type": "display_data"
    },
    {
     "name": "stdout",
     "output_type": "stream",
     "text": [
      "[[0.88288465 0.88239597]\n",
      " [0.88401249 0.88385892]\n",
      " [0.88659507 0.88651103]\n",
      " [0.88548358 0.88512981]\n",
      " [0.87742526 0.87699776]\n",
      " [0.88603933 0.88585719]\n",
      " [0.88530378 0.88491322]\n",
      " [0.88697102 0.88702592]\n",
      " [0.88447016 0.88453318]\n",
      " [0.88576145 0.88568148]\n",
      " [0.88496053 0.88504808]\n",
      " [0.88491149 0.88515432]\n",
      " [0.88566338 0.88505216]\n",
      " [0.88025303 0.87936382]\n",
      " [0.88510763 0.88496635]]\n"
     ]
    }
   ],
   "source": [
    "plt.plot(c_values, results[:,0], label = 'validation accuracy')\n",
    "plt.plot(c_values, results[:,1], label = 'training accuracy')\n",
    "plt.xlabel('values of C')\n",
    "plt.ylabel('accuracy')\n",
    "plt.legend()\n",
    "plt.show()\n",
    "\n",
    "print(results)"
   ]
  },
  {
   "cell_type": "code",
   "execution_count": 29,
   "metadata": {},
   "outputs": [
    {
     "name": "stderr",
     "output_type": "stream",
     "text": [
      "/Users/Tinaisha/opt/anaconda3/lib/python3.8/site-packages/sklearn/linear_model/_logistic.py:762: ConvergenceWarning: lbfgs failed to converge (status=1):\n",
      "STOP: TOTAL NO. of ITERATIONS REACHED LIMIT.\n",
      "\n",
      "Increase the number of iterations (max_iter) or scale the data as shown in:\n",
      "    https://scikit-learn.org/stable/modules/preprocessing.html\n",
      "Please also refer to the documentation for alternative solver options:\n",
      "    https://scikit-learn.org/stable/modules/linear_model.html#logistic-regression\n",
      "  n_iter_i = _check_optimize_result(\n"
     ]
    },
    {
     "name": "stdout",
     "output_type": "stream",
     "text": [
      "The accuracy of the model in training set: 88.70259203713769 %\n",
      "The accuracy of the model in validation set: 88.69710194674644 %\n"
     ]
    }
   ],
   "source": [
    "#pick model\n",
    "model1 = make_pipeline(prepro1, LogisticRegression(max_iter=200,C=300,multi_class='auto'))\n",
    "\n",
    "model1.fit(X_train1, y_train1)\n",
    "\n",
    "predictVal = model1.score(X_val1,y_val1)\n",
    "predictTrain = model1.score(X_train1,y_train1)\n",
    "print('The accuracy of the model in training set: ' + str(predictTrain*100)+ ' %')\n",
    "print('The accuracy of the model in validation set: ' + str(predictVal*100)+ ' %')"
   ]
  },
  {
   "cell_type": "code",
   "execution_count": 30,
   "metadata": {},
   "outputs": [
    {
     "name": "stdout",
     "output_type": "stream",
     "text": [
      "[[-5.56495758e-01  2.61850595e-01  3.13822009e+00  2.93745183e+00\n",
      "   2.74153738e+00  2.80007009e+00  3.06289464e+00  3.10784195e+00\n",
      "   1.26005572e+00  2.17182768e+00  2.22915829e+00  2.18211008e+00\n",
      "   2.00125196e+00  1.53192655e+00 -1.13996748e-01  7.58232498e-02\n",
      "  -1.44774268e-01  4.86389894e-03 -8.59515164e-02 -1.13326518e+01\n",
      "   5.78822979e+01 -1.13216634e-01 -6.19851941e+00 -6.23366588e+00\n",
      "  -2.18914910e-01]\n",
      " [-4.60773872e-01  2.82518511e-02  2.39173928e+00  2.40693968e+00\n",
      "   3.05080456e+00  2.22597200e+00  1.96680180e+00  2.32934638e+00\n",
      "   1.34951653e+00  1.20243197e+00  1.11523468e+00  1.59233835e+00\n",
      "  -1.18635715e+00 -8.28295052e-01 -1.22574306e-01  1.95855058e-03\n",
      "  -1.87648662e-02 -1.73279706e-01 -1.51693226e-01  1.90034067e+01\n",
      "   5.78825073e+01 -1.88060241e-01  2.42351828e+01  2.44086961e+01\n",
      "   1.55910136e+00]\n",
      " [-5.80024801e-01 -4.63220401e-01  1.52713420e+00  2.02175426e+00\n",
      "   2.52808177e+00  1.96621044e+00  2.38401982e+00  2.30214324e+00\n",
      "   1.78384306e+00  1.66769658e+00  1.63164670e+00  1.21389770e+00\n",
      "   1.17495209e+00  2.14415691e+00 -8.46787769e-02 -8.53183622e-02\n",
      "  -2.88227693e-01 -8.21557602e-02 -3.83076579e-01  3.59627076e+01\n",
      "  -1.67097917e+02 -2.29326538e-03 -6.19870406e+00 -6.25937414e+00\n",
      "  -7.16116927e-01]\n",
      " [ 1.12829839e+00  5.93387065e-01  5.29521101e+00  5.08938234e+00\n",
      "   4.17782321e+00  4.74595172e+00  4.87203235e+00  4.98179920e+00\n",
      "   2.84421578e+00  2.30357236e+00  3.44771596e+00  4.50829444e+00\n",
      "   4.85433209e+00  1.23558589e+00 -1.80137806e-02 -1.04824245e-02\n",
      "   1.26966092e-01  4.40612394e-01  2.37186804e-01 -4.34053126e+00\n",
      "   5.78344116e+01  3.96820614e-01 -5.96281676e+00 -5.98278856e+00\n",
      "   5.89864512e-02]\n",
      " [ 4.68996046e-01 -4.20269110e-01 -1.23523046e+01 -1.24555281e+01\n",
      "  -1.24982469e+01 -1.17382042e+01 -1.22857486e+01 -1.27211308e+01\n",
      "  -7.23763109e+00 -7.34552859e+00 -8.42375562e+00 -9.49664057e+00\n",
      "  -6.84417899e+00 -4.08337429e+00  3.39263611e-01  1.80189862e-02\n",
      "   3.24800735e-01 -1.90040826e-01  3.83534517e-01 -3.92929313e+01\n",
      "  -6.50129938e+00 -9.32504728e-02 -5.87514260e+00 -5.93286753e+00\n",
      "  -6.83055970e-01]]\n",
      "[ 23.15750926 -74.89188124  19.80820247  17.14857576  14.77759375]\n"
     ]
    }
   ],
   "source": [
    "print(model1[1].coef_)\n",
    "print(model1[1].intercept_)\n"
   ]
  },
  {
   "cell_type": "markdown",
   "metadata": {},
   "source": [
    "#### Have extra text features (preprocessing the \"name\" feature)"
   ]
  },
  {
   "cell_type": "code",
   "execution_count": 11,
   "metadata": {},
   "outputs": [
    {
     "name": "stdout",
     "output_type": "stream",
     "text": [
      "[ 0.          0.          0.         ...  0.22027868  0.21534828\n",
      " -0.11259926]\n"
     ]
    }
   ],
   "source": [
    "X_train2 = dfS_train.drop(columns=['state'])\n",
    "y_train2 = dfS_train['state']\n",
    "X_val2 = dfS_val.drop(columns=['state'])\n",
    "y_val2 = dfS_val['state']\n",
    "\n",
    "textPrep = make_pipeline(CountVectorizer(lowercase=True),TfidfTransformer())\n",
    "enc2 = OneHotEncoder(categories=[mainCategory,currency],drop = 'first')\n",
    "\n",
    "prepro2 = make_column_transformer((textPrep,'name'),\n",
    "    (enc2, ['main_category','currency']),\n",
    "    (StandardScaler(), ['backers','usd_goal_real', 'nameLength', 'launchTime', 'deadlineTime', 'projectLength']))\n",
    "#see if it is working\n",
    "print(prepro2.fit_transform(X_train2).toarray()[0])"
   ]
  },
  {
   "cell_type": "code",
   "execution_count": 32,
   "metadata": {},
   "outputs": [
    {
     "name": "stderr",
     "output_type": "stream",
     "text": [
      "/Users/Tinaisha/opt/anaconda3/lib/python3.8/site-packages/sklearn/linear_model/_logistic.py:762: ConvergenceWarning: lbfgs failed to converge (status=1):\n",
      "STOP: TOTAL NO. of ITERATIONS REACHED LIMIT.\n",
      "\n",
      "Increase the number of iterations (max_iter) or scale the data as shown in:\n",
      "    https://scikit-learn.org/stable/modules/preprocessing.html\n",
      "Please also refer to the documentation for alternative solver options:\n",
      "    https://scikit-learn.org/stable/modules/linear_model.html#logistic-regression\n",
      "  n_iter_i = _check_optimize_result(\n"
     ]
    },
    {
     "name": "stdout",
     "output_type": "stream",
     "text": [
      "The accuracy of the model in training set: 89.92239825753644 %\n",
      "The accuracy of the model in validation set: 85.3740662645679 %\n"
     ]
    }
   ],
   "source": [
    "model2 = make_pipeline(prepro2, LogisticRegression(max_iter=700,multi_class='auto'))\n",
    "\n",
    "model2.fit(X_train2, y_train2)\n",
    "\n",
    "predictVal = model2.score(X_val2,y_val2)\n",
    "predictTrain = model2.score(X_train2,y_train2)\n",
    "print('The accuracy of the model in training set: ' + str(predictTrain*100)+ ' %')\n",
    "print('The accuracy of the model in validation set: ' + str(predictVal*100)+ ' %')"
   ]
  },
  {
   "cell_type": "code",
   "execution_count": 48,
   "metadata": {},
   "outputs": [
    {
     "name": "stderr",
     "output_type": "stream",
     "text": [
      "/Users/Tinaisha/opt/anaconda3/lib/python3.8/site-packages/sklearn/linear_model/_logistic.py:762: ConvergenceWarning: lbfgs failed to converge (status=1):\n",
      "STOP: TOTAL NO. of ITERATIONS REACHED LIMIT.\n",
      "\n",
      "Increase the number of iterations (max_iter) or scale the data as shown in:\n",
      "    https://scikit-learn.org/stable/modules/preprocessing.html\n",
      "Please also refer to the documentation for alternative solver options:\n",
      "    https://scikit-learn.org/stable/modules/linear_model.html#logistic-regression\n",
      "  n_iter_i = _check_optimize_result(\n"
     ]
    },
    {
     "name": "stdout",
     "output_type": "stream",
     "text": [
      "validation score for max iter = 1 is 0.6034913941058206\n"
     ]
    },
    {
     "name": "stderr",
     "output_type": "stream",
     "text": [
      "/Users/Tinaisha/opt/anaconda3/lib/python3.8/site-packages/sklearn/linear_model/_logistic.py:762: ConvergenceWarning: lbfgs failed to converge (status=1):\n",
      "STOP: TOTAL NO. of ITERATIONS REACHED LIMIT.\n",
      "\n",
      "Increase the number of iterations (max_iter) or scale the data as shown in:\n",
      "    https://scikit-learn.org/stable/modules/preprocessing.html\n",
      "Please also refer to the documentation for alternative solver options:\n",
      "    https://scikit-learn.org/stable/modules/linear_model.html#logistic-regression\n",
      "  n_iter_i = _check_optimize_result(\n"
     ]
    },
    {
     "name": "stdout",
     "output_type": "stream",
     "text": [
      "validation score for max iter = 5 is 0.6789748116183658\n"
     ]
    },
    {
     "name": "stderr",
     "output_type": "stream",
     "text": [
      "/Users/Tinaisha/opt/anaconda3/lib/python3.8/site-packages/sklearn/linear_model/_logistic.py:762: ConvergenceWarning: lbfgs failed to converge (status=1):\n",
      "STOP: TOTAL NO. of ITERATIONS REACHED LIMIT.\n",
      "\n",
      "Increase the number of iterations (max_iter) or scale the data as shown in:\n",
      "    https://scikit-learn.org/stable/modules/preprocessing.html\n",
      "Please also refer to the documentation for alternative solver options:\n",
      "    https://scikit-learn.org/stable/modules/linear_model.html#logistic-regression\n",
      "  n_iter_i = _check_optimize_result(\n"
     ]
    },
    {
     "name": "stdout",
     "output_type": "stream",
     "text": [
      "validation score for max iter = 10 is 0.7550957027738276\n"
     ]
    },
    {
     "name": "stderr",
     "output_type": "stream",
     "text": [
      "/Users/Tinaisha/opt/anaconda3/lib/python3.8/site-packages/sklearn/linear_model/_logistic.py:762: ConvergenceWarning: lbfgs failed to converge (status=1):\n",
      "STOP: TOTAL NO. of ITERATIONS REACHED LIMIT.\n",
      "\n",
      "Increase the number of iterations (max_iter) or scale the data as shown in:\n",
      "    https://scikit-learn.org/stable/modules/preprocessing.html\n",
      "Please also refer to the documentation for alternative solver options:\n",
      "    https://scikit-learn.org/stable/modules/linear_model.html#logistic-regression\n",
      "  n_iter_i = _check_optimize_result(\n"
     ]
    },
    {
     "name": "stdout",
     "output_type": "stream",
     "text": [
      "validation score for max iter = 100 is 0.8461890517988199\n"
     ]
    },
    {
     "name": "stderr",
     "output_type": "stream",
     "text": [
      "/Users/Tinaisha/opt/anaconda3/lib/python3.8/site-packages/sklearn/linear_model/_logistic.py:762: ConvergenceWarning: lbfgs failed to converge (status=1):\n",
      "STOP: TOTAL NO. of ITERATIONS REACHED LIMIT.\n",
      "\n",
      "Increase the number of iterations (max_iter) or scale the data as shown in:\n",
      "    https://scikit-learn.org/stable/modules/preprocessing.html\n",
      "Please also refer to the documentation for alternative solver options:\n",
      "    https://scikit-learn.org/stable/modules/linear_model.html#logistic-regression\n",
      "  n_iter_i = _check_optimize_result(\n"
     ]
    },
    {
     "name": "stdout",
     "output_type": "stream",
     "text": [
      "validation score for max iter = 200 is 0.8569607218163096\n"
     ]
    },
    {
     "name": "stderr",
     "output_type": "stream",
     "text": [
      "/Users/Tinaisha/opt/anaconda3/lib/python3.8/site-packages/sklearn/linear_model/_logistic.py:762: ConvergenceWarning: lbfgs failed to converge (status=1):\n",
      "STOP: TOTAL NO. of ITERATIONS REACHED LIMIT.\n",
      "\n",
      "Increase the number of iterations (max_iter) or scale the data as shown in:\n",
      "    https://scikit-learn.org/stable/modules/preprocessing.html\n",
      "Please also refer to the documentation for alternative solver options:\n",
      "    https://scikit-learn.org/stable/modules/linear_model.html#logistic-regression\n",
      "  n_iter_i = _check_optimize_result(\n"
     ]
    },
    {
     "name": "stdout",
     "output_type": "stream",
     "text": [
      "validation score for max iter = 300 is 0.8548031187172069\n"
     ]
    },
    {
     "name": "stderr",
     "output_type": "stream",
     "text": [
      "/Users/Tinaisha/opt/anaconda3/lib/python3.8/site-packages/sklearn/linear_model/_logistic.py:762: ConvergenceWarning: lbfgs failed to converge (status=1):\n",
      "STOP: TOTAL NO. of ITERATIONS REACHED LIMIT.\n",
      "\n",
      "Increase the number of iterations (max_iter) or scale the data as shown in:\n",
      "    https://scikit-learn.org/stable/modules/preprocessing.html\n",
      "Please also refer to the documentation for alternative solver options:\n",
      "    https://scikit-learn.org/stable/modules/linear_model.html#logistic-regression\n",
      "  n_iter_i = _check_optimize_result(\n"
     ]
    },
    {
     "name": "stdout",
     "output_type": "stream",
     "text": [
      "validation score for max iter = 400 is 0.8528089703983392\n"
     ]
    },
    {
     "name": "stderr",
     "output_type": "stream",
     "text": [
      "/Users/Tinaisha/opt/anaconda3/lib/python3.8/site-packages/sklearn/linear_model/_logistic.py:762: ConvergenceWarning: lbfgs failed to converge (status=1):\n",
      "STOP: TOTAL NO. of ITERATIONS REACHED LIMIT.\n",
      "\n",
      "Increase the number of iterations (max_iter) or scale the data as shown in:\n",
      "    https://scikit-learn.org/stable/modules/preprocessing.html\n",
      "Please also refer to the documentation for alternative solver options:\n",
      "    https://scikit-learn.org/stable/modules/linear_model.html#logistic-regression\n",
      "  n_iter_i = _check_optimize_result(\n"
     ]
    },
    {
     "name": "stdout",
     "output_type": "stream",
     "text": [
      "validation score for max iter = 500 is 0.8531522254368329\n"
     ]
    },
    {
     "name": "stderr",
     "output_type": "stream",
     "text": [
      "/Users/Tinaisha/opt/anaconda3/lib/python3.8/site-packages/sklearn/linear_model/_logistic.py:762: ConvergenceWarning: lbfgs failed to converge (status=1):\n",
      "STOP: TOTAL NO. of ITERATIONS REACHED LIMIT.\n",
      "\n",
      "Increase the number of iterations (max_iter) or scale the data as shown in:\n",
      "    https://scikit-learn.org/stable/modules/preprocessing.html\n",
      "Please also refer to the documentation for alternative solver options:\n",
      "    https://scikit-learn.org/stable/modules/linear_model.html#logistic-regression\n",
      "  n_iter_i = _check_optimize_result(\n"
     ]
    },
    {
     "name": "stdout",
     "output_type": "stream",
     "text": [
      "validation score for max iter = 800 is 0.8539531538599846\n"
     ]
    },
    {
     "name": "stderr",
     "output_type": "stream",
     "text": [
      "/Users/Tinaisha/opt/anaconda3/lib/python3.8/site-packages/sklearn/linear_model/_logistic.py:762: ConvergenceWarning: lbfgs failed to converge (status=1):\n",
      "STOP: TOTAL NO. of ITERATIONS REACHED LIMIT.\n",
      "\n",
      "Increase the number of iterations (max_iter) or scale the data as shown in:\n",
      "    https://scikit-learn.org/stable/modules/preprocessing.html\n",
      "Please also refer to the documentation for alternative solver options:\n",
      "    https://scikit-learn.org/stable/modules/linear_model.html#logistic-regression\n",
      "  n_iter_i = _check_optimize_result(\n"
     ]
    },
    {
     "name": "stdout",
     "output_type": "stream",
     "text": [
      "validation score for max iter = 1000 is 0.8540675722061492\n"
     ]
    }
   ],
   "source": [
    "max_iter = [1,5,10,100,200,300,400,500,800,1000]\n",
    "\n",
    "results2 = np.zeros((len(max_iter),2))\n",
    "converg = np.zeros((len(max_iter)))\n",
    "for i in range(len(max_iter)):\n",
    "    model = make_pipeline(prepro2, LogisticRegression(max_iter=max_iter[i],multi_class='auto'))\n",
    "    model.fit(X_train2, y_train2)\n",
    "\n",
    "    results2[i,0] = model.score(X_val2,y_val2)\n",
    "    results2[i,1] = model.score(X_train2,y_train2)\n",
    "    converg[i] = model2[1].n_iter_\n",
    "    print(f'validation score for max iter = {max_iter[i]} is {results2[i,0]}')\n"
   ]
  },
  {
   "cell_type": "code",
   "execution_count": 49,
   "metadata": {},
   "outputs": [
    {
     "data": {
      "image/png": "[encoded data removed]",
      "text/plain": [
       "<Figure size 432x288 with 1 Axes>"
      ]
     },
     "metadata": {
      "needs_background": "light"
     },
     "output_type": "display_data"
    }
   ],
   "source": [
    "plt.plot(max_iter, results2[:,0], label = 'validation accuracy')\n",
    "plt.plot(max_iter, results2[:,1], label = 'training accuracy')\n",
    "plt.legend()\n",
    "plt.show()"
   ]
  },
  {
   "cell_type": "code",
   "execution_count": 40,
   "metadata": {},
   "outputs": [
    {
     "name": "stderr",
     "output_type": "stream",
     "text": [
      "/Users/Tinaisha/opt/anaconda3/lib/python3.8/site-packages/sklearn/linear_model/_logistic.py:762: ConvergenceWarning: lbfgs failed to converge (status=1):\n",
      "STOP: TOTAL NO. of ITERATIONS REACHED LIMIT.\n",
      "\n",
      "Increase the number of iterations (max_iter) or scale the data as shown in:\n",
      "    https://scikit-learn.org/stable/modules/preprocessing.html\n",
      "Please also refer to the documentation for alternative solver options:\n",
      "    https://scikit-learn.org/stable/modules/linear_model.html#logistic-regression\n",
      "  n_iter_i = _check_optimize_result(\n"
     ]
    },
    {
     "name": "stdout",
     "output_type": "stream",
     "text": [
      "run time is 220.3142387866974\n",
      "The accuracy of the model in training set: 93.81515338501333 %\n",
      "The accuracy of the model in validation set: 82.04776148678468 %\n"
     ]
    }
   ],
   "source": [
    "model2 = make_pipeline(prepro2, LogisticRegression(max_iter=700,penalty='none',multi_class='auto'))\n",
    "begin=time.time()\n",
    "model2.fit(X_train2, y_train2)\n",
    "print(f'run time is {time.time()-begin}')\n",
    "predictVal = model2.score(X_val2,y_val2)\n",
    "predictTrain = model2.score(X_train2,y_train2)\n",
    "print('The accuracy of the model in training set: ' + str(predictTrain*100)+ ' %')\n",
    "print('The accuracy of the model in validation set: ' + str(predictVal*100)+ ' %')"
   ]
  },
  {
   "cell_type": "code",
   "execution_count": 51,
   "metadata": {},
   "outputs": [
    {
     "name": "stdout",
     "output_type": "stream",
     "text": [
      "index for sovler newton-cg,c value 100 and pennalty l2 is 1, run time 1131.1430768966675\n",
      "index for sovler newton-cg,c value 10 and pennalty l2 is 2, run time 557.4170451164246\n",
      "index for sovler newton-cg,c value 1.0 and pennalty l2 is 3, run time 271.4390609264374\n",
      "index for sovler newton-cg,c value 0.1 and pennalty l2 is 4, run time 106.02876377105713\n",
      "index for sovler newton-cg,c value 0.01 and pennalty l2 is 5, run time 54.94813418388367\n"
     ]
    },
    {
     "name": "stderr",
     "output_type": "stream",
     "text": [
      "/Users/Tinaisha/opt/anaconda3/lib/python3.8/site-packages/sklearn/linear_model/_logistic.py:762: ConvergenceWarning: lbfgs failed to converge (status=1):\n",
      "STOP: TOTAL NO. of ITERATIONS REACHED LIMIT.\n",
      "\n",
      "Increase the number of iterations (max_iter) or scale the data as shown in:\n",
      "    https://scikit-learn.org/stable/modules/preprocessing.html\n",
      "Please also refer to the documentation for alternative solver options:\n",
      "    https://scikit-learn.org/stable/modules/linear_model.html#logistic-regression\n",
      "  n_iter_i = _check_optimize_result(\n"
     ]
    },
    {
     "name": "stdout",
     "output_type": "stream",
     "text": [
      "index for sovler lbfgs,c value 100 and pennalty l2 is 6, run time 129.98116612434387\n"
     ]
    },
    {
     "name": "stderr",
     "output_type": "stream",
     "text": [
      "/Users/Tinaisha/opt/anaconda3/lib/python3.8/site-packages/sklearn/linear_model/_logistic.py:762: ConvergenceWarning: lbfgs failed to converge (status=1):\n",
      "STOP: TOTAL NO. of ITERATIONS REACHED LIMIT.\n",
      "\n",
      "Increase the number of iterations (max_iter) or scale the data as shown in:\n",
      "    https://scikit-learn.org/stable/modules/preprocessing.html\n",
      "Please also refer to the documentation for alternative solver options:\n",
      "    https://scikit-learn.org/stable/modules/linear_model.html#logistic-regression\n",
      "  n_iter_i = _check_optimize_result(\n"
     ]
    },
    {
     "name": "stdout",
     "output_type": "stream",
     "text": [
      "index for sovler lbfgs,c value 10 and pennalty l2 is 7, run time 130.2090470790863\n"
     ]
    },
    {
     "name": "stderr",
     "output_type": "stream",
     "text": [
      "/Users/Tinaisha/opt/anaconda3/lib/python3.8/site-packages/sklearn/linear_model/_logistic.py:762: ConvergenceWarning: lbfgs failed to converge (status=1):\n",
      "STOP: TOTAL NO. of ITERATIONS REACHED LIMIT.\n",
      "\n",
      "Increase the number of iterations (max_iter) or scale the data as shown in:\n",
      "    https://scikit-learn.org/stable/modules/preprocessing.html\n",
      "Please also refer to the documentation for alternative solver options:\n",
      "    https://scikit-learn.org/stable/modules/linear_model.html#logistic-regression\n",
      "  n_iter_i = _check_optimize_result(\n"
     ]
    },
    {
     "name": "stdout",
     "output_type": "stream",
     "text": [
      "index for sovler lbfgs,c value 1.0 and pennalty l2 is 8, run time 135.50631380081177\n",
      "index for sovler lbfgs,c value 0.1 and pennalty l2 is 9, run time 125.3658459186554\n",
      "index for sovler lbfgs,c value 0.01 and pennalty l2 is 10, run time 47.604711055755615\n"
     ]
    },
    {
     "name": "stderr",
     "output_type": "stream",
     "text": [
      "/Users/Tinaisha/opt/anaconda3/lib/python3.8/site-packages/sklearn/svm/_base.py:976: ConvergenceWarning: Liblinear failed to converge, increase the number of iterations.\n",
      "  warnings.warn(\"Liblinear failed to converge, increase \"\n"
     ]
    },
    {
     "name": "stdout",
     "output_type": "stream",
     "text": [
      "index for sovler liblinear,c value 100 and pennalty l2 is 11, run time 295.23400378227234\n"
     ]
    },
    {
     "name": "stderr",
     "output_type": "stream",
     "text": [
      "/Users/Tinaisha/opt/anaconda3/lib/python3.8/site-packages/sklearn/svm/_base.py:976: ConvergenceWarning: Liblinear failed to converge, increase the number of iterations.\n",
      "  warnings.warn(\"Liblinear failed to converge, increase \"\n"
     ]
    },
    {
     "name": "stdout",
     "output_type": "stream",
     "text": [
      "index for sovler liblinear,c value 10 and pennalty l2 is 12, run time 165.40353202819824\n",
      "index for sovler liblinear,c value 1.0 and pennalty l2 is 13, run time 55.543684005737305\n",
      "index for sovler liblinear,c value 0.1 and pennalty l2 is 14, run time 35.43060302734375\n",
      "index for sovler liblinear,c value 0.01 and pennalty l2 is 15, run time 22.93198585510254\n"
     ]
    },
    {
     "name": "stderr",
     "output_type": "stream",
     "text": [
      "/Users/Tinaisha/opt/anaconda3/lib/python3.8/site-packages/sklearn/linear_model/_sag.py:329: ConvergenceWarning: The max_iter was reached which means the coef_ did not converge\n",
      "  warnings.warn(\"The max_iter was reached which means \"\n"
     ]
    },
    {
     "name": "stdout",
     "output_type": "stream",
     "text": [
      "index for sovler sag,c value 100 and pennalty l2 is 16, run time 162.51967477798462\n"
     ]
    },
    {
     "name": "stderr",
     "output_type": "stream",
     "text": [
      "/Users/Tinaisha/opt/anaconda3/lib/python3.8/site-packages/sklearn/linear_model/_sag.py:329: ConvergenceWarning: The max_iter was reached which means the coef_ did not converge\n",
      "  warnings.warn(\"The max_iter was reached which means \"\n"
     ]
    },
    {
     "name": "stdout",
     "output_type": "stream",
     "text": [
      "index for sovler sag,c value 10 and pennalty l2 is 17, run time 159.10584807395935\n"
     ]
    },
    {
     "name": "stderr",
     "output_type": "stream",
     "text": [
      "/Users/Tinaisha/opt/anaconda3/lib/python3.8/site-packages/sklearn/linear_model/_sag.py:329: ConvergenceWarning: The max_iter was reached which means the coef_ did not converge\n",
      "  warnings.warn(\"The max_iter was reached which means \"\n"
     ]
    },
    {
     "name": "stdout",
     "output_type": "stream",
     "text": [
      "index for sovler sag,c value 1.0 and pennalty l2 is 18, run time 156.6833300590515\n"
     ]
    },
    {
     "name": "stderr",
     "output_type": "stream",
     "text": [
      "/Users/Tinaisha/opt/anaconda3/lib/python3.8/site-packages/sklearn/linear_model/_sag.py:329: ConvergenceWarning: The max_iter was reached which means the coef_ did not converge\n",
      "  warnings.warn(\"The max_iter was reached which means \"\n"
     ]
    },
    {
     "name": "stdout",
     "output_type": "stream",
     "text": [
      "index for sovler sag,c value 0.1 and pennalty l2 is 19, run time 159.38984489440918\n"
     ]
    },
    {
     "name": "stderr",
     "output_type": "stream",
     "text": [
      "/Users/Tinaisha/opt/anaconda3/lib/python3.8/site-packages/sklearn/linear_model/_sag.py:329: ConvergenceWarning: The max_iter was reached which means the coef_ did not converge\n",
      "  warnings.warn(\"The max_iter was reached which means \"\n"
     ]
    },
    {
     "name": "stdout",
     "output_type": "stream",
     "text": [
      "index for sovler sag,c value 0.01 and pennalty l2 is 20, run time 152.39189291000366\n"
     ]
    },
    {
     "name": "stderr",
     "output_type": "stream",
     "text": [
      "/Users/Tinaisha/opt/anaconda3/lib/python3.8/site-packages/sklearn/linear_model/_sag.py:329: ConvergenceWarning: The max_iter was reached which means the coef_ did not converge\n",
      "  warnings.warn(\"The max_iter was reached which means \"\n"
     ]
    },
    {
     "name": "stdout",
     "output_type": "stream",
     "text": [
      "index for sovler saga,c value 100 and pennalty l2 is 21, run time 161.31846380233765\n"
     ]
    },
    {
     "name": "stderr",
     "output_type": "stream",
     "text": [
      "/Users/Tinaisha/opt/anaconda3/lib/python3.8/site-packages/sklearn/linear_model/_sag.py:329: ConvergenceWarning: The max_iter was reached which means the coef_ did not converge\n",
      "  warnings.warn(\"The max_iter was reached which means \"\n"
     ]
    },
    {
     "name": "stdout",
     "output_type": "stream",
     "text": [
      "index for sovler saga,c value 10 and pennalty l2 is 22, run time 166.19987893104553\n"
     ]
    },
    {
     "name": "stderr",
     "output_type": "stream",
     "text": [
      "/Users/Tinaisha/opt/anaconda3/lib/python3.8/site-packages/sklearn/linear_model/_sag.py:329: ConvergenceWarning: The max_iter was reached which means the coef_ did not converge\n",
      "  warnings.warn(\"The max_iter was reached which means \"\n"
     ]
    },
    {
     "name": "stdout",
     "output_type": "stream",
     "text": [
      "index for sovler saga,c value 1.0 and pennalty l2 is 23, run time 169.4483802318573\n"
     ]
    },
    {
     "name": "stderr",
     "output_type": "stream",
     "text": [
      "/Users/Tinaisha/opt/anaconda3/lib/python3.8/site-packages/sklearn/linear_model/_sag.py:329: ConvergenceWarning: The max_iter was reached which means the coef_ did not converge\n",
      "  warnings.warn(\"The max_iter was reached which means \"\n"
     ]
    },
    {
     "name": "stdout",
     "output_type": "stream",
     "text": [
      "index for sovler saga,c value 0.1 and pennalty l2 is 24, run time 178.5334038734436\n"
     ]
    },
    {
     "name": "stderr",
     "output_type": "stream",
     "text": [
      "/Users/Tinaisha/opt/anaconda3/lib/python3.8/site-packages/sklearn/linear_model/_sag.py:329: ConvergenceWarning: The max_iter was reached which means the coef_ did not converge\n",
      "  warnings.warn(\"The max_iter was reached which means \"\n"
     ]
    },
    {
     "name": "stdout",
     "output_type": "stream",
     "text": [
      "index for sovler saga,c value 0.01 and pennalty l2 is 25, run time 195.93982696533203\n"
     ]
    }
   ],
   "source": [
    "#Simple hypertune\n",
    "solvers = ['newton-cg', 'lbfgs', 'liblinear','sag', 'saga']\n",
    "penalty = ['l2']\n",
    "c_values = [100, 10, 1.0, 0.1,0.01]\n",
    "#running all specification and comparing their validation accuracy. Note that if liblinear is not worth running with l1,omitted then\n",
    "results3 = np.zeros((25,2))\n",
    "i = 0\n",
    "for sol in solvers:\n",
    "    for c in c_values:\n",
    "        for pen in penalty:\n",
    "            begin = time.time()\n",
    "            logic = LogisticRegression(solver = sol, penalty = pen, C=c,max_iter=500,multi_class='auto')\n",
    "            model = make_pipeline(prepro2, logic)\n",
    "            model.fit(X_train2, y_train2)\n",
    "            results3[i,0] = model.score(X_val2,y_val2)\n",
    "            results3[i,1] = model.score(X_train2,y_train2)\n",
    "            i+=1\n",
    "            end = time.time()\n",
    "            print(f'index for sovler {sol},c value {c} and pennalty {pen} is {i}, run time {end-begin}')\n",
    "        "
   ]
  },
  {
   "cell_type": "code",
   "execution_count": 52,
   "metadata": {},
   "outputs": [
    {
     "name": "stdout",
     "output_type": "stream",
     "text": [
      "[[ 1.          0.83177234  0.95143659]\n",
      " [ 2.          0.84378627  0.93894431]\n",
      " [ 3.          0.85403488  0.89935475]\n",
      " [ 4.          0.83504144  0.84569553]\n",
      " [ 5.          0.79615554  0.79975154]\n",
      " [ 6.          0.83986335  0.9380412 ]\n",
      " [ 7.          0.84452181  0.933636  ]\n",
      " [ 8.          0.85315223  0.90024968]\n",
      " [ 9.          0.83500874  0.84565876]\n",
      " [10.          0.7961392   0.7997638 ]\n",
      " [11.          0.81170009  0.93167859]\n",
      " [12.          0.82907534  0.91637891]\n",
      " [13.          0.8400595   0.87272742]\n",
      " [14.          0.82265156  0.8293579 ]\n",
      " [15.          0.78227823  0.78510978]\n",
      " [16.          0.80025826  0.80342118]\n",
      " [17.          0.80025826  0.80340075]\n",
      " [18.          0.80012749  0.80324137]\n",
      " [19.          0.7991958   0.8022075 ]\n",
      " [20.          0.78888181  0.79152551]\n",
      " [21.          0.78773762  0.78988276]\n",
      " [22.          0.78772128  0.78986641]\n",
      " [23.          0.7876232   0.78982964]\n",
      " [24.          0.78710015  0.78920032]\n",
      " [25.          0.78010428  0.78219206]]\n"
     ]
    }
   ],
   "source": [
    "print(np.concatenate((np.arange(1,26).reshape(25,1), results3),axis=1))"
   ]
  },
  {
   "cell_type": "code",
   "execution_count": 18,
   "metadata": {},
   "outputs": [
    {
     "name": "stderr",
     "output_type": "stream",
     "text": [
      "/Users/Tinaisha/opt/anaconda3/lib/python3.8/site-packages/sklearn/linear_model/_logistic.py:762: ConvergenceWarning: lbfgs failed to converge (status=1):\n",
      "STOP: TOTAL NO. of ITERATIONS REACHED LIMIT.\n",
      "\n",
      "Increase the number of iterations (max_iter) or scale the data as shown in:\n",
      "    https://scikit-learn.org/stable/modules/preprocessing.html\n",
      "Please also refer to the documentation for alternative solver options:\n",
      "    https://scikit-learn.org/stable/modules/linear_model.html#logistic-regression\n",
      "  n_iter_i = _check_optimize_result(\n"
     ]
    },
    {
     "name": "stdout",
     "output_type": "stream",
     "text": [
      "index for c value 10.0 is 1, run time 55.60769319534302\n"
     ]
    },
    {
     "name": "stderr",
     "output_type": "stream",
     "text": [
      "/Users/Tinaisha/opt/anaconda3/lib/python3.8/site-packages/sklearn/linear_model/_logistic.py:762: ConvergenceWarning: lbfgs failed to converge (status=1):\n",
      "STOP: TOTAL NO. of ITERATIONS REACHED LIMIT.\n",
      "\n",
      "Increase the number of iterations (max_iter) or scale the data as shown in:\n",
      "    https://scikit-learn.org/stable/modules/preprocessing.html\n",
      "Please also refer to the documentation for alternative solver options:\n",
      "    https://scikit-learn.org/stable/modules/linear_model.html#logistic-regression\n",
      "  n_iter_i = _check_optimize_result(\n"
     ]
    },
    {
     "name": "stdout",
     "output_type": "stream",
     "text": [
      "index for c value 8.0 is 2, run time 53.40927481651306\n"
     ]
    },
    {
     "name": "stderr",
     "output_type": "stream",
     "text": [
      "/Users/Tinaisha/opt/anaconda3/lib/python3.8/site-packages/sklearn/linear_model/_logistic.py:762: ConvergenceWarning: lbfgs failed to converge (status=1):\n",
      "STOP: TOTAL NO. of ITERATIONS REACHED LIMIT.\n",
      "\n",
      "Increase the number of iterations (max_iter) or scale the data as shown in:\n",
      "    https://scikit-learn.org/stable/modules/preprocessing.html\n",
      "Please also refer to the documentation for alternative solver options:\n",
      "    https://scikit-learn.org/stable/modules/linear_model.html#logistic-regression\n",
      "  n_iter_i = _check_optimize_result(\n"
     ]
    },
    {
     "name": "stdout",
     "output_type": "stream",
     "text": [
      "index for c value 5.0 is 3, run time 52.603445053100586\n"
     ]
    },
    {
     "name": "stderr",
     "output_type": "stream",
     "text": [
      "/Users/Tinaisha/opt/anaconda3/lib/python3.8/site-packages/sklearn/linear_model/_logistic.py:762: ConvergenceWarning: lbfgs failed to converge (status=1):\n",
      "STOP: TOTAL NO. of ITERATIONS REACHED LIMIT.\n",
      "\n",
      "Increase the number of iterations (max_iter) or scale the data as shown in:\n",
      "    https://scikit-learn.org/stable/modules/preprocessing.html\n",
      "Please also refer to the documentation for alternative solver options:\n",
      "    https://scikit-learn.org/stable/modules/linear_model.html#logistic-regression\n",
      "  n_iter_i = _check_optimize_result(\n"
     ]
    },
    {
     "name": "stdout",
     "output_type": "stream",
     "text": [
      "index for c value 2.0 is 4, run time 51.83568000793457\n"
     ]
    },
    {
     "name": "stderr",
     "output_type": "stream",
     "text": [
      "/Users/Tinaisha/opt/anaconda3/lib/python3.8/site-packages/sklearn/linear_model/_logistic.py:762: ConvergenceWarning: lbfgs failed to converge (status=1):\n",
      "STOP: TOTAL NO. of ITERATIONS REACHED LIMIT.\n",
      "\n",
      "Increase the number of iterations (max_iter) or scale the data as shown in:\n",
      "    https://scikit-learn.org/stable/modules/preprocessing.html\n",
      "Please also refer to the documentation for alternative solver options:\n",
      "    https://scikit-learn.org/stable/modules/linear_model.html#logistic-regression\n",
      "  n_iter_i = _check_optimize_result(\n"
     ]
    },
    {
     "name": "stdout",
     "output_type": "stream",
     "text": [
      "index for c value 1.0 is 5, run time 52.84406280517578\n"
     ]
    },
    {
     "name": "stderr",
     "output_type": "stream",
     "text": [
      "/Users/Tinaisha/opt/anaconda3/lib/python3.8/site-packages/sklearn/linear_model/_logistic.py:762: ConvergenceWarning: lbfgs failed to converge (status=1):\n",
      "STOP: TOTAL NO. of ITERATIONS REACHED LIMIT.\n",
      "\n",
      "Increase the number of iterations (max_iter) or scale the data as shown in:\n",
      "    https://scikit-learn.org/stable/modules/preprocessing.html\n",
      "Please also refer to the documentation for alternative solver options:\n",
      "    https://scikit-learn.org/stable/modules/linear_model.html#logistic-regression\n",
      "  n_iter_i = _check_optimize_result(\n"
     ]
    },
    {
     "name": "stdout",
     "output_type": "stream",
     "text": [
      "index for c value 0.8 is 6, run time 52.265661001205444\n"
     ]
    },
    {
     "name": "stderr",
     "output_type": "stream",
     "text": [
      "/Users/Tinaisha/opt/anaconda3/lib/python3.8/site-packages/sklearn/linear_model/_logistic.py:762: ConvergenceWarning: lbfgs failed to converge (status=1):\n",
      "STOP: TOTAL NO. of ITERATIONS REACHED LIMIT.\n",
      "\n",
      "Increase the number of iterations (max_iter) or scale the data as shown in:\n",
      "    https://scikit-learn.org/stable/modules/preprocessing.html\n",
      "Please also refer to the documentation for alternative solver options:\n",
      "    https://scikit-learn.org/stable/modules/linear_model.html#logistic-regression\n",
      "  n_iter_i = _check_optimize_result(\n"
     ]
    },
    {
     "name": "stdout",
     "output_type": "stream",
     "text": [
      "index for c value 0.5 is 7, run time 53.365646839141846\n"
     ]
    },
    {
     "name": "stderr",
     "output_type": "stream",
     "text": [
      "/Users/Tinaisha/opt/anaconda3/lib/python3.8/site-packages/sklearn/linear_model/_logistic.py:762: ConvergenceWarning: lbfgs failed to converge (status=1):\n",
      "STOP: TOTAL NO. of ITERATIONS REACHED LIMIT.\n",
      "\n",
      "Increase the number of iterations (max_iter) or scale the data as shown in:\n",
      "    https://scikit-learn.org/stable/modules/preprocessing.html\n",
      "Please also refer to the documentation for alternative solver options:\n",
      "    https://scikit-learn.org/stable/modules/linear_model.html#logistic-regression\n",
      "  n_iter_i = _check_optimize_result(\n"
     ]
    },
    {
     "name": "stdout",
     "output_type": "stream",
     "text": [
      "index for c value 0.2 is 8, run time 53.480067014694214\n"
     ]
    },
    {
     "name": "stderr",
     "output_type": "stream",
     "text": [
      "/Users/Tinaisha/opt/anaconda3/lib/python3.8/site-packages/sklearn/linear_model/_logistic.py:762: ConvergenceWarning: lbfgs failed to converge (status=1):\n",
      "STOP: TOTAL NO. of ITERATIONS REACHED LIMIT.\n",
      "\n",
      "Increase the number of iterations (max_iter) or scale the data as shown in:\n",
      "    https://scikit-learn.org/stable/modules/preprocessing.html\n",
      "Please also refer to the documentation for alternative solver options:\n",
      "    https://scikit-learn.org/stable/modules/linear_model.html#logistic-regression\n",
      "  n_iter_i = _check_optimize_result(\n"
     ]
    },
    {
     "name": "stdout",
     "output_type": "stream",
     "text": [
      "index for c value 0.1 is 9, run time 52.15036702156067\n"
     ]
    },
    {
     "data": {
      "image/png": "[encoded data removed]",
      "text/plain": [
       "<Figure size 432x288 with 1 Axes>"
      ]
     },
     "metadata": {
      "needs_background": "light"
     },
     "output_type": "display_data"
    }
   ],
   "source": [
    "#Simple hypertune\n",
    "c_values = [10.0, 8.0, 5.0, 2.0, 1.0,0.8,0.5,0.2, 0.1]\n",
    "#running all specification and comparing their validation accuracy. Note that if liblinear is not worth running with l1,omitted then\n",
    "results5 = np.zeros((len(c_values),2))\n",
    "i = 0\n",
    "\n",
    "for c in c_values:\n",
    "    begin = time.time()\n",
    "    logic = LogisticRegression(C=c,max_iter=200,multi_class = 'auto') #default lbfgs with l2 penalty\n",
    "    model = make_pipeline(prepro2, logic)\n",
    "    model.fit(X_train2, y_train2)\n",
    "    results5[i,0] = model.score(X_val2,y_val2)\n",
    "    results5[i,1] = model.score(X_train2,y_train2)\n",
    "    i+=1\n",
    "    end = time.time()\n",
    "    print(f'index for c value {c} is {i}, run time {end-begin}')\n",
    "    \n"
   ]
  },
  {
   "cell_type": "code",
   "execution_count": 55,
   "metadata": {},
   "outputs": [
    {
     "name": "stdout",
     "output_type": "stream",
     "text": [
      "[[10.          0.85838278  0.90312246]\n",
      " [ 8.          0.85785972  0.90339216]\n",
      " [ 5.          0.85915102  0.90081361]\n",
      " [ 2.          0.85916736  0.89732378]\n",
      " [ 1.          0.85696072  0.88925304]\n",
      " [ 0.8         0.85575116  0.88748769]\n",
      " [ 0.5         0.85305415  0.88066331]\n",
      " [ 0.2         0.84210268  0.85764841]\n",
      " [ 0.1         0.83484529  0.84565876]]\n"
     ]
    }
   ],
   "source": [
    "print(np.concatenate((np.array(c_values).reshape(len(c_values),1), results5),axis=1))"
   ]
  },
  {
   "cell_type": "code",
   "execution_count": 41,
   "metadata": {},
   "outputs": [
    {
     "name": "stderr",
     "output_type": "stream",
     "text": [
      "/Users/Tinaisha/opt/anaconda3/lib/python3.8/site-packages/sklearn/linear_model/_logistic.py:762: ConvergenceWarning: lbfgs failed to converge (status=1):\n",
      "STOP: TOTAL NO. of ITERATIONS REACHED LIMIT.\n",
      "\n",
      "Increase the number of iterations (max_iter) or scale the data as shown in:\n",
      "    https://scikit-learn.org/stable/modules/preprocessing.html\n",
      "Please also refer to the documentation for alternative solver options:\n",
      "    https://scikit-learn.org/stable/modules/linear_model.html#logistic-regression\n",
      "  n_iter_i = _check_optimize_result(\n"
     ]
    },
    {
     "name": "stdout",
     "output_type": "stream",
     "text": [
      "The accuracy of the model in training set: 89.73237819305221 %\n",
      "The accuracy of the model in validation set: 85.91673613494827 %\n"
     ]
    }
   ],
   "source": [
    "#pick best validation accuracy\n",
    "model2 = make_pipeline(prepro2, LogisticRegression(max_iter=200,multi_class='auto',C=2.0))\n",
    "\n",
    "model2.fit(X_train2, y_train2)\n",
    "\n",
    "predictVal = model2.score(X_val2,y_val2)\n",
    "predictTrain = model2.score(X_train2,y_train2)\n",
    "print('The accuracy of the model in training set: ' + str(predictTrain*100)+ ' %')\n",
    "print('The accuracy of the model in validation set: ' + str(predictVal*100)+ ' %')"
   ]
  },
  {
   "cell_type": "code",
   "execution_count": 42,
   "metadata": {},
   "outputs": [
    {
     "name": "stdout",
     "output_type": "stream",
     "text": [
      "[[-5.44844137e-01 -2.24325115e-01 -2.53240784e-01 ... -4.63675158e+00\n",
      "  -4.66411150e+00 -1.84580218e-01]\n",
      " [-1.11314074e-03 -2.26956060e-01 -5.16659679e-04 ...  1.72175788e+01\n",
      "   1.73582536e+01  1.44669249e+00]\n",
      " [ 5.83079763e-01  2.76230116e-01  2.62393165e-01 ... -4.65280012e+00\n",
      "  -4.70942241e+00 -7.53423499e-01]\n",
      " [-1.84720312e-02  4.61948064e-01 -1.44914198e-03 ... -3.61917528e+00\n",
      "  -3.61527922e+00  3.47844797e-01]\n",
      " [-1.86504549e-02 -2.86897005e-01 -7.18657950e-03 ... -4.30885186e+00\n",
      "  -4.36944043e+00 -8.56533565e-01]]\n",
      "[ 17.00455938 -53.2587089   15.63216986  10.00753711  10.61444255]\n"
     ]
    }
   ],
   "source": [
    "print(model2[1].coef_)\n",
    "print(model2[1].intercept_)"
   ]
  },
  {
   "cell_type": "markdown",
   "metadata": {},
   "source": [
    "#### Try convolution network"
   ]
  },
  {
   "cell_type": "code",
   "execution_count": 12,
   "metadata": {},
   "outputs": [],
   "source": [
    "from keras.models import Sequential\n",
    "from keras.layers import Dense\n",
    "from keras.layers import Flatten\n",
    "from keras.layers import Dropout\n",
    "from keras.layers.convolutional import Conv1D\n",
    "from keras.layers.convolutional import MaxPooling1D\n",
    "from tensorflow.keras.optimizers import SGD\n",
    "from keras.initializers import random_uniform\n",
    "from keras.wrappers.scikit_learn import KerasClassifier\n",
    "from keras.utils.np_utils import to_categorical\n",
    "\n",
    "from sklearn.model_selection import StratifiedKFold, KFold\n",
    "from sklearn.model_selection import cross_val_score\n",
    "\n",
    "SEED = 42\n",
    "np.random.seed(SEED)"
   ]
  },
  {
   "cell_type": "code",
   "execution_count": 13,
   "metadata": {},
   "outputs": [
    {
     "name": "stdout",
     "output_type": "stream",
     "text": [
      "(244711, 25)\n",
      "(61179, 25)\n",
      "(244711, 25, 1)\n",
      "(61179, 25, 1)\n"
     ]
    }
   ],
   "source": [
    "X_trainConv1 = prepro1.fit_transform(X_train1).toarray()\n",
    "X_valConv1 = prepro1.fit_transform(X_val1).toarray()\n",
    "# X_trainConv2 = prepro2.fit_transform(X_train2).toarray()\n",
    "# X_valConv2 = prepro2.fit_transform(X_val2).toarray()\n",
    "\n",
    "print(X_trainConv1.shape)\n",
    "print(X_valConv1.shape)\n",
    "# print(X_trainConv2.shape)\n",
    "# print(X_valConv2.shape)\n",
    "\n",
    "X_trainConv1 = np.reshape(X_trainConv1, (X_trainConv1.shape[0],X_trainConv1.shape[1],1))\n",
    "X_valConv1 = np.reshape(X_valConv1, (X_valConv1.shape[0],X_valConv1.shape[1],1))\n",
    "# X_trainConv2 = np.reshape(X_trainConv2, X_trainConv2.shape + (1,))\n",
    "# X_valConv2 = np.reshape(X_valConv2, X_valConv2.shape + (1,))\n",
    "\n",
    "print(X_trainConv1.shape)\n",
    "print(X_valConv1.shape)\n",
    "# print(X_trainConv2.shape)\n",
    "# print(X_valConv2.shape)"
   ]
  },
  {
   "cell_type": "code",
   "execution_count": 37,
   "metadata": {},
   "outputs": [
    {
     "name": "stdout",
     "output_type": "stream",
     "text": [
      "(244711,)\n",
      "<class 'pandas.core.series.Series'>\n",
      "failed        142355\n",
      "successful     96447\n",
      "undefined       2565\n",
      "live            2015\n",
      "suspended       1329\n",
      "Name: state, dtype: int64\n"
     ]
    }
   ],
   "source": [
    "print(y_train1.shape)\n",
    "print(type(y_train1))\n",
    "print(y_train1.value_counts())"
   ]
  },
  {
   "cell_type": "code",
   "execution_count": 14,
   "metadata": {},
   "outputs": [
    {
     "name": "stdout",
     "output_type": "stream",
     "text": [
      "(244711, 5)\n",
      "(61179, 5)\n"
     ]
    }
   ],
   "source": [
    "dum1 = OneHotEncoder(categories=[['successful','failed','undefined','live','suspended']]).fit(y_train1.values.reshape(-1,1))\n",
    "y_trainConv1 = dum1.transform(y_train1.values.reshape(-1,1)).toarray()\n",
    "print(y_trainConv1.shape)\n",
    "dum1 = OneHotEncoder(categories=[['successful','failed','undefined','live','suspended']]).fit(y_val1.values.reshape(-1,1))\n",
    "y_valConv1 = dum1.transform(y_val1.values.reshape(-1,1)).toarray()\n",
    "print(y_valConv1.shape)\n",
    "\n"
   ]
  },
  {
   "cell_type": "markdown",
   "metadata": {},
   "source": [
    "Very suspicious! if we do drop 1 classes, it give suspiciously high accuracy for both training and validation (about 97%!). Furthermore, adam optimizer behaving very strangely (abnormally high loss and extremely low training accuracy but just as high validation accuracy)\n",
    "\n",
    "For this multi-class problem, I will be using no dropped since it could be the case that dropping 1 class can be considered \"losing information\" since there are not really any restriction on the exclusive category. When we did this, sgd not working again and only Adam is working"
   ]
  },
  {
   "cell_type": "code",
   "execution_count": 146,
   "metadata": {},
   "outputs": [
    {
     "name": "stdout",
     "output_type": "stream",
     "text": [
      "Model: \"sequential_9\"\n",
      "_________________________________________________________________\n",
      " Layer (type)                Output Shape              Param #   \n",
      "=================================================================\n",
      " conv1d_27 (Conv1D)          (None, 25, 32)            128       \n",
      "                                                                 \n",
      " conv1d_28 (Conv1D)          (None, 25, 16)            1552      \n",
      "                                                                 \n",
      " dropout_17 (Dropout)        (None, 25, 16)            0         \n",
      "                                                                 \n",
      " conv1d_29 (Conv1D)          (None, 25, 64)            3136      \n",
      "                                                                 \n",
      " max_pooling1d_14 (MaxPoolin  (None, 6, 64)            0         \n",
      " g1D)                                                            \n",
      "                                                                 \n",
      " flatten_9 (Flatten)         (None, 384)               0         \n",
      "                                                                 \n",
      " dense_18 (Dense)            (None, 16)                6160      \n",
      "                                                                 \n",
      " dropout_18 (Dropout)        (None, 16)                0         \n",
      "                                                                 \n",
      " dense_19 (Dense)            (None, 5)                 85        \n",
      "                                                                 \n",
      "=================================================================\n",
      "Total params: 11,061\n",
      "Trainable params: 11,061\n",
      "Non-trainable params: 0\n",
      "_________________________________________________________________\n",
      "Epoch 1/5\n",
      "478/478 [==============================] - 17s 35ms/step - loss: 1.5931 - accuracy: 0.5657 - val_loss: 1.5769 - val_accuracy: 0.5817\n",
      "Epoch 2/5\n",
      "478/478 [==============================] - 15s 32ms/step - loss: 1.5611 - accuracy: 0.5816 - val_loss: 1.5460 - val_accuracy: 0.5817\n",
      "Epoch 3/5\n",
      "478/478 [==============================] - 20s 43ms/step - loss: 1.5308 - accuracy: 0.5817 - val_loss: 1.5164 - val_accuracy: 0.5817\n",
      "Epoch 4/5\n",
      "478/478 [==============================] - 19s 39ms/step - loss: 1.5017 - accuracy: 0.5816 - val_loss: 1.4880 - val_accuracy: 0.5817\n",
      "Epoch 5/5\n",
      "478/478 [==============================] - 17s 35ms/step - loss: 1.4737 - accuracy: 0.5816 - val_loss: 1.4605 - val_accuracy: 0.5817\n",
      "1912/1912 [==============================] - 4s 2ms/step - loss: 1.4605 - accuracy: 0.5817\n"
     ]
    },
    {
     "data": {
      "text/plain": [
       "[1.4604952335357666, 0.5817192196846008]"
      ]
     },
     "execution_count": 146,
     "metadata": {},
     "output_type": "execute_result"
    }
   ],
   "source": [
    "#SGD not working in this case\n",
    "verbose = 1\n",
    "epochs = 5\n",
    "batch_size = 512\n",
    "dropRate = 0.2\n",
    "nOut = 5\n",
    "X_train, y_train = X_trainConv1, y_trainConv1\n",
    "\n",
    "model3 = Sequential()\n",
    "model3.add(Conv1D(filters=32, kernel_size=3, padding='same', kernel_initializer='normal', activation='relu', input_shape=(25,1)))\n",
    "model3.add(Conv1D(filters=16, kernel_size=3, padding='same', kernel_initializer='normal', activation='relu'))\n",
    "model3.add(Dropout(dropRate))\n",
    "model3.add(Conv1D(filters=32, kernel_size=3, padding='same', kernel_initializer='normal', activation='relu'))\n",
    "model3.add(MaxPooling1D(pool_size=4))\n",
    "model3.add(Flatten())\n",
    "model3.add(Dense(units=16, kernel_initializer='normal', activation='relu'))\n",
    "model3.add(Dropout(dropRate))\n",
    "model3.add(Dense(units=nOut, activation='softmax'))\n",
    "model3.summary()\n",
    "\n",
    "optimizer = SGD(learning_rate=0.0001) #,momentum=0.0)\n",
    "model3.compile(loss='categorical_crossentropy', optimizer=optimizer, metrics=['accuracy'])\n",
    "\n",
    "    # fit network\n",
    "history = model3.fit(X_train, y_train, epochs=epochs, batch_size=batch_size, verbose=verbose, validation_data=(X_valConv1, y_valConv1))\n",
    "model3.evaluate(X_valConv1, y_valConv1)\n",
    "\n"
   ]
  },
  {
   "cell_type": "code",
   "execution_count": 139,
   "metadata": {},
   "outputs": [
    {
     "name": "stdout",
     "output_type": "stream",
     "text": [
      "0.5817192196846008\n"
     ]
    }
   ],
   "source": [
    "_, accuracy = model3.evaluate(X_valConv1, y_valConv1, batch_size=batch_size, verbose=0)\n",
    "print(accuracy)"
   ]
  },
  {
   "cell_type": "code",
   "execution_count": 16,
   "metadata": {},
   "outputs": [
    {
     "name": "stdout",
     "output_type": "stream",
     "text": [
      "Model: \"sequential\"\n",
      "_________________________________________________________________\n",
      " Layer (type)                Output Shape              Param #   \n",
      "=================================================================\n",
      " conv1d (Conv1D)             (None, 25, 32)            128       \n",
      "                                                                 \n",
      " conv1d_1 (Conv1D)           (None, 25, 16)            528       \n",
      "                                                                 \n",
      " max_pooling1d (MaxPooling1D  (None, 12, 16)           0         \n",
      " )                                                               \n",
      "                                                                 \n",
      " conv1d_2 (Conv1D)           (None, 12, 32)            1568      \n",
      "                                                                 \n",
      " max_pooling1d_1 (MaxPooling  (None, 6, 32)            0         \n",
      " 1D)                                                             \n",
      "                                                                 \n",
      " dropout (Dropout)           (None, 6, 32)             0         \n",
      "                                                                 \n",
      " flatten (Flatten)           (None, 192)               0         \n",
      "                                                                 \n",
      " dense (Dense)               (None, 16)                3088      \n",
      "                                                                 \n",
      " dropout_1 (Dropout)         (None, 16)                0         \n",
      "                                                                 \n",
      " dense_1 (Dense)             (None, 5)                 85        \n",
      "                                                                 \n",
      "=================================================================\n",
      "Total params: 5,397\n",
      "Trainable params: 5,397\n",
      "Non-trainable params: 0\n",
      "_________________________________________________________________\n",
      "Epoch 1/20\n",
      "477/477 [==============================] - 14s 28ms/step - loss: 0.8182 - accuracy: 0.6301 - val_loss: 0.5367 - val_accuracy: 0.7917\n",
      "Epoch 2/20\n",
      "477/477 [==============================] - 10s 21ms/step - loss: 0.5031 - accuracy: 0.8246 - val_loss: 0.4570 - val_accuracy: 0.8325\n",
      "Epoch 3/20\n",
      "477/477 [==============================] - 15s 32ms/step - loss: 0.4522 - accuracy: 0.8430 - val_loss: 0.4330 - val_accuracy: 0.8419\n",
      "Epoch 4/20\n",
      "477/477 [==============================] - 14s 30ms/step - loss: 0.4213 - accuracy: 0.8532 - val_loss: 0.4563 - val_accuracy: 0.8448\n",
      "Epoch 5/20\n",
      "477/477 [==============================] - 11s 23ms/step - loss: 0.3935 - accuracy: 0.8628 - val_loss: 0.4378 - val_accuracy: 0.8550\n",
      "Epoch 6/20\n",
      "477/477 [==============================] - 11s 24ms/step - loss: 0.3709 - accuracy: 0.8718 - val_loss: 0.4063 - val_accuracy: 0.8657\n",
      "Epoch 7/20\n",
      "477/477 [==============================] - 12s 26ms/step - loss: 0.3512 - accuracy: 0.8792 - val_loss: 0.4067 - val_accuracy: 0.8706\n",
      "Epoch 8/20\n",
      "477/477 [==============================] - 16s 34ms/step - loss: 0.3353 - accuracy: 0.8856 - val_loss: 0.4236 - val_accuracy: 0.8720\n",
      "Epoch 9/20\n",
      "477/477 [==============================] - 12s 26ms/step - loss: 0.3260 - accuracy: 0.8893 - val_loss: 0.4178 - val_accuracy: 0.8759\n",
      "Epoch 10/20\n",
      "477/477 [==============================] - 11s 23ms/step - loss: 0.3172 - accuracy: 0.8917 - val_loss: 0.4317 - val_accuracy: 0.8716\n",
      "Epoch 11/20\n",
      "477/477 [==============================] - 12s 24ms/step - loss: 0.3101 - accuracy: 0.8938 - val_loss: 0.4551 - val_accuracy: 0.8684\n",
      "Epoch 12/20\n",
      "477/477 [==============================] - 10s 21ms/step - loss: 0.3048 - accuracy: 0.8943 - val_loss: 0.4643 - val_accuracy: 0.8670\n",
      "Epoch 13/20\n",
      "477/477 [==============================] - 12s 24ms/step - loss: 0.2997 - accuracy: 0.8963 - val_loss: 0.4403 - val_accuracy: 0.8714\n",
      "Epoch 14/20\n",
      "477/477 [==============================] - 9s 19ms/step - loss: 0.2959 - accuracy: 0.8967 - val_loss: 0.4710 - val_accuracy: 0.8673\n",
      "Epoch 15/20\n",
      "477/477 [==============================] - 11s 23ms/step - loss: 0.2941 - accuracy: 0.8973 - val_loss: 0.4644 - val_accuracy: 0.8719\n",
      "Epoch 16/20\n",
      "477/477 [==============================] - 9s 18ms/step - loss: 0.2907 - accuracy: 0.8976 - val_loss: 0.5165 - val_accuracy: 0.8552\n",
      "Epoch 17/20\n",
      "477/477 [==============================] - 10s 20ms/step - loss: 0.2876 - accuracy: 0.8986 - val_loss: 0.5024 - val_accuracy: 0.8615\n",
      "Epoch 18/20\n",
      "477/477 [==============================] - 12s 26ms/step - loss: 0.2877 - accuracy: 0.8991 - val_loss: 0.4799 - val_accuracy: 0.8661\n",
      "Epoch 19/20\n",
      "477/477 [==============================] - 9s 20ms/step - loss: 0.2847 - accuracy: 0.8993 - val_loss: 0.5303 - val_accuracy: 0.8580\n",
      "Epoch 20/20\n",
      "477/477 [==============================] - 10s 22ms/step - loss: 0.2836 - accuracy: 0.9000 - val_loss: 0.5146 - val_accuracy: 0.8636\n",
      "1912/1912 [==============================] - 3s 2ms/step - loss: 0.5146 - accuracy: 0.8636\n"
     ]
    },
    {
     "data": {
      "text/plain": [
       "[0.5145541429519653, 0.8636460304260254]"
      ]
     },
     "execution_count": 16,
     "metadata": {},
     "output_type": "execute_result"
    }
   ],
   "source": [
    "verbose = 1\n",
    "epochs = 20\n",
    "batch_size = 514\n",
    "dropRate = 0.2\n",
    "nOut = 5\n",
    "X_train, y_train = X_trainConv1, y_trainConv1\n",
    "hidden_initializer = random_uniform(seed=SEED)\n",
    "\n",
    "model3 = Sequential()\n",
    "model3.add(Conv1D(filters=32, kernel_size=3, padding='same', kernel_initializer='normal', activation='relu', input_shape=(25,1)))\n",
    "model3.add(Conv1D(filters=16, kernel_size=1, padding='same', kernel_initializer='normal', activation='relu'))\n",
    "model3.add(MaxPooling1D(pool_size=2))\n",
    "model3.add(Conv1D(filters=32, kernel_size=3, padding='same', kernel_initializer='normal', activation='relu'))\n",
    "model3.add(MaxPooling1D(pool_size=2))\n",
    "model3.add(Dropout(dropRate))\n",
    "model3.add(Flatten())\n",
    "model3.add(Dense(units=16, kernel_initializer='normal', activation='relu'))\n",
    "model3.add(Dropout(dropRate))\n",
    "model3.add(Dense(units=nOut, activation='softmax'))\n",
    "model3.summary()\n",
    "\n",
    "# optimizer = SGD(lr=0.0001) #,momentum=0.0)\n",
    "model3.compile(loss='categorical_crossentropy', optimizer='adam', metrics=['accuracy'])\n",
    "\n",
    "    # fit network\n",
    "history = model3.fit(X_train, y_train, epochs=epochs, batch_size=batch_size, verbose=verbose, validation_data=(X_valConv1, y_valConv1))\n",
    "model3.evaluate(X_valConv1, y_valConv1)\n"
   ]
  },
  {
   "cell_type": "code",
   "execution_count": 17,
   "metadata": {},
   "outputs": [
    {
     "data": {
      "image/png": "[encoded data removed]",
      "text/plain": [
       "<Figure size 432x288 with 1 Axes>"
      ]
     },
     "metadata": {
      "needs_background": "light"
     },
     "output_type": "display_data"
    }
   ],
   "source": [
    "plt.plot(history.history['accuracy'], label = 'train')\n",
    "plt.plot(history.history['val_accuracy'],label = 'val')\n",
    "plt.title('model accuracy')\n",
    "plt.ylabel('accuracy')\n",
    "plt.xlabel('epoch')\n",
    "plt.legend(loc='lower right')\n",
    "plt.show()"
   ]
  },
  {
   "cell_type": "code",
   "execution_count": 18,
   "metadata": {},
   "outputs": [
    {
     "data": {
      "image/png": "[encoded data removed]",
      "text/plain": [
       "<Figure size 432x288 with 1 Axes>"
      ]
     },
     "metadata": {
      "needs_background": "light"
     },
     "output_type": "display_data"
    }
   ],
   "source": [
    "plt.plot(history.history['loss'], label = 'train')\n",
    "plt.plot(history.history['val_loss'], label = 'val')\n",
    "plt.title('model loss')\n",
    "plt.ylabel('loss')\n",
    "plt.xlabel('epoch')\n",
    "plt.legend(loc='lower right')\n",
    "plt.show()"
   ]
  },
  {
   "cell_type": "markdown",
   "metadata": {},
   "source": [
    "picking 5 epochs should be adequate. We will be using this to hypertune paramters.\n",
    "\n",
    "Also, try this with different architectures:"
   ]
  },
  {
   "cell_type": "code",
   "execution_count": 16,
   "metadata": {},
   "outputs": [
    {
     "name": "stdout",
     "output_type": "stream",
     "text": [
      "(244711, 25, 1)\n",
      "(61179, 25, 1)\n",
      "(305890, 25, 1)\n",
      "(305890, 5)\n"
     ]
    }
   ],
   "source": [
    "print(X_trainConv1.shape)\n",
    "print(X_valConv1.shape)\n",
    "X_Conv1 = np.concatenate((X_trainConv1,X_valConv1), axis = 0)\n",
    "print(X_Conv1.shape)\n",
    "y_Conv1 = np.concatenate((y_trainConv1,y_valConv1), axis = 0)\n",
    "print(y_Conv1.shape)\n",
    "\n",
    "verbose = 0\n",
    "epochs = 5\n",
    "batch_size = 514\n",
    "\n",
    "kfold = KFold(n_splits=10, shuffle=True, random_state=123)"
   ]
  },
  {
   "cell_type": "code",
   "execution_count": 20,
   "metadata": {},
   "outputs": [
    {
     "name": "stderr",
     "output_type": "stream",
     "text": [
      "<ipython-input-20-b364308d806b>:20: DeprecationWarning: KerasClassifier is deprecated, use Sci-Keras (https://github.com/adriangb/scikeras) instead.\n",
      "  estimators = KerasClassifier(build_fn=create_model, epochs=epochs, batch_size=batch_size, verbose=verbose)\n",
      "[Parallel(n_jobs=1)]: Using backend SequentialBackend with 1 concurrent workers.\n"
     ]
    },
    {
     "name": "stdout",
     "output_type": "stream",
     "text": [
      "start\n",
      "start\n",
      "start\n",
      "start\n",
      "start\n",
      "start\n",
      "start\n",
      "start\n",
      "start\n",
      "start\n",
      "without Drop: 87.69% (0.87%)\n"
     ]
    },
    {
     "name": "stderr",
     "output_type": "stream",
     "text": [
      "[Parallel(n_jobs=1)]: Done  10 out of  10 | elapsed:  7.4min finished\n"
     ]
    }
   ],
   "source": [
    "def create_model(dropRate = 0.2,nOut = 5):   \n",
    "    model3 = Sequential()\n",
    "    model3.add(Conv1D(filters=32, kernel_size=3, padding='same', kernel_initializer='normal', activation='relu', input_shape=(25,1)))\n",
    "    model3.add(Conv1D(filters=16, kernel_size=1, padding='same', kernel_initializer='normal', activation='relu'))\n",
    "    model3.add(MaxPooling1D(pool_size=2))\n",
    "    model3.add(Conv1D(filters=32, kernel_size=3, padding='same', kernel_initializer='normal', activation='relu'))\n",
    "    model3.add(MaxPooling1D(pool_size=2))\n",
    "#     model3.add(Dropout(dropRate))\n",
    "    model3.add(Flatten())\n",
    "    model3.add(Dense(units=16, kernel_initializer='normal', activation='relu'))\n",
    "#     model3.add(Dropout(dropRate))\n",
    "    model3.add(Dense(units=nOut, activation='softmax'))\n",
    "#     model3.summary()\n",
    "\n",
    "        # optimizer = SGD(lr=0.0001) #,momentum=0.0)\n",
    "    model3.compile(loss='categorical_crossentropy', optimizer='adam', metrics=['accuracy'])\n",
    "    print(\"start\")\n",
    "    return model3\n",
    "\n",
    "estimators = KerasClassifier(build_fn=create_model, epochs=epochs, batch_size=batch_size, verbose=verbose)\n",
    "results = cross_val_score(estimators, X_Conv1, y_Conv1, cv=kfold,verbose=1,)\n",
    "print(\"without Drop: %.2f%% (%.2f%%)\" % (results.mean()*100, results.std()*100))\n",
    "\n"
   ]
  },
  {
   "cell_type": "code",
   "execution_count": 21,
   "metadata": {},
   "outputs": [
    {
     "name": "stderr",
     "output_type": "stream",
     "text": [
      "<ipython-input-21-4167629f00ae>:20: DeprecationWarning: KerasClassifier is deprecated, use Sci-Keras (https://github.com/adriangb/scikeras) instead.\n",
      "  estimators = KerasClassifier(build_fn=create_model, epochs=epochs, batch_size=batch_size, verbose=verbose)\n",
      "[Parallel(n_jobs=1)]: Using backend SequentialBackend with 1 concurrent workers.\n"
     ]
    },
    {
     "name": "stdout",
     "output_type": "stream",
     "text": [
      "start\n",
      "start\n",
      "start\n",
      "start\n",
      "start\n",
      "start\n",
      "start\n",
      "start\n",
      "start\n",
      "start\n",
      "with Drop: 87.61% (0.79%)\n",
      "with no Drop: 87.69% (0.87%)\n"
     ]
    },
    {
     "name": "stderr",
     "output_type": "stream",
     "text": [
      "[Parallel(n_jobs=1)]: Done  10 out of  10 | elapsed:  7.1min finished\n"
     ]
    }
   ],
   "source": [
    "def create_model(dropRate = 0.2,nOut = 5):   \n",
    "    model3 = Sequential()\n",
    "    model3.add(Conv1D(filters=32, kernel_size=3, padding='same', kernel_initializer='normal', activation='relu', input_shape=(25,1)))\n",
    "    model3.add(Conv1D(filters=16, kernel_size=1, padding='same', kernel_initializer='normal', activation='relu'))\n",
    "    model3.add(MaxPooling1D(pool_size=2))\n",
    "    model3.add(Conv1D(filters=32, kernel_size=3, padding='same', kernel_initializer='normal', activation='relu'))\n",
    "    model3.add(MaxPooling1D(pool_size=2))\n",
    "    model3.add(Dropout(dropRate))\n",
    "    model3.add(Flatten())\n",
    "    model3.add(Dense(units=16, kernel_initializer='normal', activation='relu'))\n",
    "    model3.add(Dropout(dropRate))\n",
    "    model3.add(Dense(units=nOut, activation='softmax'))\n",
    "#     model3.summary()\n",
    "\n",
    "        # optimizer = SGD(lr=0.0001) #,momentum=0.0)\n",
    "    model3.compile(loss='categorical_crossentropy', optimizer='adam', metrics=['accuracy'])\n",
    "    print(\"start\")\n",
    "    return model3\n",
    "\n",
    "estimators = KerasClassifier(build_fn=create_model, epochs=epochs, batch_size=batch_size, verbose=verbose)\n",
    "resultsWithDrop = cross_val_score(estimators, X_Conv1, y_Conv1, cv=kfold,verbose=1)\n",
    "print(\"with Drop: %.2f%% (%.2f%%)\" % (resultsWithDrop.mean()*100, resultsWithDrop.std()*100))\n",
    "print(\"with no Drop: %.2f%% (%.2f%%)\" % (results.mean()*100, results.std()*100))\n",
    "\n"
   ]
  },
  {
   "cell_type": "code",
   "execution_count": 21,
   "metadata": {},
   "outputs": [
    {
     "name": "stderr",
     "output_type": "stream",
     "text": [
      "<ipython-input-21-9d7a4a904733>:20: DeprecationWarning: KerasClassifier is deprecated, use Sci-Keras (https://github.com/adriangb/scikeras) instead.\n",
      "  estimators = KerasClassifier(build_fn=create_model, epochs=epochs, batch_size=batch_size, verbose=verbose)\n",
      "[Parallel(n_jobs=1)]: Using backend SequentialBackend with 1 concurrent workers.\n"
     ]
    },
    {
     "name": "stdout",
     "output_type": "stream",
     "text": [
      "start\n",
      "start\n",
      "start\n",
      "start\n",
      "start\n",
      "start\n",
      "start\n",
      "start\n",
      "start\n",
      "start\n",
      "with Drop: 89.24% (0.21%)\n"
     ]
    },
    {
     "name": "stderr",
     "output_type": "stream",
     "text": [
      "[Parallel(n_jobs=1)]: Done  10 out of  10 | elapsed: 10.8min finished\n"
     ]
    }
   ],
   "source": [
    "def create_model(dropRate = 0.2,nOut = 5):   \n",
    "    model3 = Sequential()\n",
    "    model3.add(Conv1D(filters=64, kernel_size=3, padding='same', kernel_initializer='normal', activation='relu', input_shape=(25,1)))\n",
    "    model3.add(Conv1D(filters=32, kernel_size=1, padding='same', kernel_initializer='normal', activation='relu'))\n",
    "    model3.add(MaxPooling1D(pool_size=2))\n",
    "    model3.add(Conv1D(filters=64, kernel_size=3, padding='same', kernel_initializer='normal', activation='relu'))\n",
    "    model3.add(MaxPooling1D(pool_size=2))\n",
    "    model3.add(Dropout(dropRate))\n",
    "    model3.add(Flatten())\n",
    "    model3.add(Dense(units=32, kernel_initializer='normal', activation='relu'))\n",
    "    model3.add(Dropout(dropRate))\n",
    "    model3.add(Dense(units=nOut, activation='softmax'))\n",
    "#     model3.summary()\n",
    "\n",
    "        # optimizer = SGD(lr=0.0001) #,momentum=0.0)\n",
    "    model3.compile(loss='categorical_crossentropy', optimizer='adam', metrics=['accuracy'])\n",
    "    print(\"start\")\n",
    "    return model3\n",
    "\n",
    "estimators = KerasClassifier(build_fn=create_model, epochs=epochs, batch_size=batch_size, verbose=verbose)\n",
    "resultsMoreFilter = cross_val_score(estimators, X_Conv1, y_Conv1, cv=kfold,verbose=1)\n",
    "print(\"with Drop: %.2f%% (%.2f%%)\" % (resultsMoreFilter.mean()*100, resultsMoreFilter.std()*100))\n",
    "\n"
   ]
  },
  {
   "cell_type": "code",
   "execution_count": 23,
   "metadata": {},
   "outputs": [
    {
     "name": "stderr",
     "output_type": "stream",
     "text": [
      "<ipython-input-23-f013c347fa42>:20: DeprecationWarning: KerasClassifier is deprecated, use Sci-Keras (https://github.com/adriangb/scikeras) instead.\n",
      "  estimators = KerasClassifier(build_fn=create_model, epochs=epochs, batch_size=batch_size, verbose=verbose)\n",
      "[Parallel(n_jobs=1)]: Using backend SequentialBackend with 1 concurrent workers.\n"
     ]
    },
    {
     "name": "stdout",
     "output_type": "stream",
     "text": [
      "start\n",
      "start\n",
      "start\n",
      "start\n",
      "start\n",
      "start\n",
      "start\n",
      "start\n",
      "start\n",
      "start\n",
      "with Drop: 84.42% (1.66%)\n"
     ]
    },
    {
     "name": "stderr",
     "output_type": "stream",
     "text": [
      "[Parallel(n_jobs=1)]: Done  10 out of  10 | elapsed:  3.9min finished\n"
     ]
    }
   ],
   "source": [
    "def create_model(dropRate = 0.2,nOut = 5):   \n",
    "    model3 = Sequential()\n",
    "    model3.add(Conv1D(filters=16, kernel_size=3, padding='same', kernel_initializer='normal', activation='relu', input_shape=(25,1)))\n",
    "    model3.add(Conv1D(filters=8, kernel_size=1, padding='same', kernel_initializer='normal', activation='relu'))\n",
    "    model3.add(MaxPooling1D(pool_size=2))\n",
    "    model3.add(Conv1D(filters=16, kernel_size=3, padding='same', kernel_initializer='normal', activation='relu'))\n",
    "    model3.add(MaxPooling1D(pool_size=2))\n",
    "    model3.add(Dropout(dropRate))\n",
    "    model3.add(Flatten())\n",
    "    model3.add(Dense(units=8, kernel_initializer='normal', activation='relu'))\n",
    "    model3.add(Dropout(dropRate))\n",
    "    model3.add(Dense(units=nOut, activation='softmax'))\n",
    "#     model3.summary()\n",
    "\n",
    "        # optimizer = SGD(lr=0.0001) #,momentum=0.0)\n",
    "    model3.compile(loss='categorical_crossentropy', optimizer='adam', metrics=['accuracy'])\n",
    "    print(\"start\")\n",
    "    return model3\n",
    "\n",
    "estimators = KerasClassifier(build_fn=create_model, epochs=epochs, batch_size=batch_size, verbose=verbose)\n",
    "resultsLessFilter = cross_val_score(estimators, X_Conv1, y_Conv1, cv=kfold,verbose=1)\n",
    "print(\"with Drop: %.2f%% (%.2f%%)\" % (resultsLessFilter.mean()*100, resultsLessFilter.std()*100))\n",
    "\n",
    "\n"
   ]
  },
  {
   "cell_type": "code",
   "execution_count": 24,
   "metadata": {},
   "outputs": [
    {
     "name": "stderr",
     "output_type": "stream",
     "text": [
      "<ipython-input-24-428f3bbdb8a6>:20: DeprecationWarning: KerasClassifier is deprecated, use Sci-Keras (https://github.com/adriangb/scikeras) instead.\n",
      "  estimators = KerasClassifier(build_fn=create_model, epochs=epochs, batch_size=batch_size, verbose=verbose)\n",
      "[Parallel(n_jobs=1)]: Using backend SequentialBackend with 1 concurrent workers.\n"
     ]
    },
    {
     "name": "stdout",
     "output_type": "stream",
     "text": [
      "start\n",
      "start\n",
      "start\n",
      "start\n",
      "start\n",
      "start\n",
      "start\n",
      "start\n",
      "start\n",
      "start\n",
      "with Drop: 87.39% (1.50%)\n",
      "with no Drop: 87.69% (0.87%)\n"
     ]
    },
    {
     "name": "stderr",
     "output_type": "stream",
     "text": [
      "[Parallel(n_jobs=1)]: Done  10 out of  10 | elapsed:  6.3min finished\n"
     ]
    }
   ],
   "source": [
    "def create_model(dropRate = 0.2,nOut = 5):   \n",
    "    model3 = Sequential()\n",
    "    model3.add(Conv1D(filters=32, kernel_size=3, padding='same', kernel_initializer='normal', activation='relu', input_shape=(25,1)))\n",
    "    model3.add(Conv1D(filters=16, kernel_size=1, padding='same', kernel_initializer='normal', activation='relu'))\n",
    "    model3.add(MaxPooling1D(pool_size=2))\n",
    "    model3.add(Conv1D(filters=32, kernel_size=3, padding='same', kernel_initializer='normal', activation='relu'))\n",
    "    model3.add(MaxPooling1D(pool_size=2))\n",
    "    model3.add(Dropout(dropRate))\n",
    "    model3.add(Flatten())\n",
    "    model3.add(Dense(units=16, kernel_initializer='normal', activation='relu'))\n",
    "#     model3.add(Dropout(dropRate))\n",
    "    model3.add(Dense(units=nOut, activation='softmax'))\n",
    "#     model3.summary()\n",
    "\n",
    "        # optimizer = SGD(lr=0.0001) #,momentum=0.0)\n",
    "    model3.compile(loss='categorical_crossentropy', optimizer='adam', metrics=['accuracy'])\n",
    "    print(\"start\")\n",
    "    return model3\n",
    "\n",
    "estimators = KerasClassifier(build_fn=create_model, epochs=epochs, batch_size=batch_size, verbose=verbose)\n",
    "resultsWith1Drop = cross_val_score(estimators, X_Conv1, y_Conv1, cv=kfold,verbose=1)\n",
    "print(\"with Drop: %.2f%% (%.2f%%)\" % (resultsWith1Drop.mean()*100, resultsWith1Drop.std()*100))\n",
    "print(\"with no Drop: %.2f%% (%.2f%%)\" % (results.mean()*100, results.std()*100))\n",
    "\n",
    "\n"
   ]
  },
  {
   "cell_type": "code",
   "execution_count": 25,
   "metadata": {},
   "outputs": [
    {
     "name": "stderr",
     "output_type": "stream",
     "text": [
      "<ipython-input-25-a0a12236cdc3>:20: DeprecationWarning: KerasClassifier is deprecated, use Sci-Keras (https://github.com/adriangb/scikeras) instead.\n",
      "  estimators = KerasClassifier(build_fn=create_model, epochs=epochs, batch_size=batch_size, verbose=verbose)\n",
      "[Parallel(n_jobs=1)]: Using backend SequentialBackend with 1 concurrent workers.\n"
     ]
    },
    {
     "name": "stdout",
     "output_type": "stream",
     "text": [
      "start\n",
      "start\n",
      "start\n",
      "start\n",
      "start\n",
      "start\n",
      "start\n",
      "start\n",
      "start\n",
      "start\n",
      "with Drop: 87.77% (0.82%)\n",
      "with no Drop: 87.69% (0.87%)\n"
     ]
    },
    {
     "name": "stderr",
     "output_type": "stream",
     "text": [
      "[Parallel(n_jobs=1)]: Done  10 out of  10 | elapsed:  6.4min finished\n"
     ]
    }
   ],
   "source": [
    "def create_model(dropRate = 0.2,nOut = 5):   \n",
    "    model3 = Sequential()\n",
    "    model3.add(Conv1D(filters=32, kernel_size=3, padding='same', kernel_initializer='normal', activation='relu', input_shape=(25,1)))\n",
    "    model3.add(Conv1D(filters=16, kernel_size=1, padding='same', kernel_initializer='normal', activation='relu'))\n",
    "    model3.add(MaxPooling1D(pool_size=2))\n",
    "    model3.add(Conv1D(filters=32, kernel_size=3, padding='same', kernel_initializer='normal', activation='relu'))\n",
    "    model3.add(MaxPooling1D(pool_size=2))\n",
    "#     model3.add(Dropout(dropRate))\n",
    "    model3.add(Flatten())\n",
    "    model3.add(Dense(units=16, kernel_initializer='normal', activation='relu'))\n",
    "    model3.add(Dropout(dropRate))\n",
    "    model3.add(Dense(units=nOut, activation='softmax'))\n",
    "#     model3.summary()\n",
    "\n",
    "        # optimizer = SGD(lr=0.0001) #,momentum=0.0)\n",
    "    model3.compile(loss='categorical_crossentropy', optimizer='adam', metrics=['accuracy'])\n",
    "    print(\"start\")\n",
    "    return model3\n",
    "\n",
    "estimators = KerasClassifier(build_fn=create_model, epochs=epochs, batch_size=batch_size, verbose=verbose)\n",
    "resultsWith1Dropbix = cross_val_score(estimators, X_Conv1, y_Conv1, cv=kfold,verbose=1)\n",
    "print(\"with Drop: %.2f%% (%.2f%%)\" % (resultsWith1Dropbix.mean()*100, resultsWith1Dropbix.std()*100))\n",
    "print(\"with no Drop: %.2f%% (%.2f%%)\" % (results.mean()*100, results.std()*100))\n",
    "\n",
    "\n",
    "\n"
   ]
  },
  {
   "cell_type": "code",
   "execution_count": 26,
   "metadata": {},
   "outputs": [
    {
     "name": "stderr",
     "output_type": "stream",
     "text": [
      "<ipython-input-26-c188641fa375>:21: DeprecationWarning: KerasClassifier is deprecated, use Sci-Keras (https://github.com/adriangb/scikeras) instead.\n",
      "  estimators = KerasClassifier(build_fn=create_model, epochs=epochs, batch_size=batch_size, verbose=verbose)\n",
      "[Parallel(n_jobs=1)]: Using backend SequentialBackend with 1 concurrent workers.\n"
     ]
    },
    {
     "name": "stdout",
     "output_type": "stream",
     "text": [
      "start\n",
      "start\n",
      "start\n",
      "start\n",
      "start\n",
      "start\n",
      "start\n",
      "start\n",
      "start\n",
      "start\n",
      "with Drop: 88.46% (0.59%)\n",
      "with no Drop: 87.69% (0.87%)\n"
     ]
    },
    {
     "name": "stderr",
     "output_type": "stream",
     "text": [
      "[Parallel(n_jobs=1)]: Done  10 out of  10 | elapsed:  7.3min finished\n"
     ]
    }
   ],
   "source": [
    "def create_model(dropRate = 0.2,nOut = 5):   \n",
    "    model3 = Sequential()\n",
    "    model3.add(Conv1D(filters=32, kernel_size=3, padding='same', kernel_initializer='normal', activation='relu', input_shape=(25,1)))\n",
    "    model3.add(Conv1D(filters=16, kernel_size=1, padding='same', kernel_initializer='normal', activation='relu'))\n",
    "    model3.add(MaxPooling1D(pool_size=2))\n",
    "    model3.add(Conv1D(filters=32, kernel_size=3, padding='same', kernel_initializer='normal', activation='relu'))\n",
    "    model3.add(MaxPooling1D(pool_size=2))\n",
    "    model3.add(Dropout(dropRate))\n",
    "    model3.add(Flatten())\n",
    "    model3.add(Dense(units=32, kernel_initializer='normal', activation='relu'))\n",
    "    model3.add(Dense(units=16, kernel_initializer='normal', activation='relu'))\n",
    "    model3.add(Dropout(dropRate))\n",
    "    model3.add(Dense(units=nOut, activation='softmax'))\n",
    "#     model3.summary()\n",
    "\n",
    "        # optimizer = SGD(lr=0.0001) #,momentum=0.0)\n",
    "    model3.compile(loss='categorical_crossentropy', optimizer='adam', metrics=['accuracy'])\n",
    "    print(\"start\")\n",
    "    return model3\n",
    "\n",
    "estimators = KerasClassifier(build_fn=create_model, epochs=epochs, batch_size=batch_size, verbose=verbose)\n",
    "resultsAlter = cross_val_score(estimators, X_Conv1, y_Conv1, cv=kfold,verbose=1)\n",
    "print(\"with Drop: %.2f%% (%.2f%%)\" % (resultsAlter.mean()*100, resultsAlter.std()*100))\n",
    "print(\"with no Drop: %.2f%% (%.2f%%)\" % (results.mean()*100, results.std()*100))\n"
   ]
  },
  {
   "cell_type": "code",
   "execution_count": 20,
   "metadata": {},
   "outputs": [
    {
     "name": "stderr",
     "output_type": "stream",
     "text": [
      "<ipython-input-20-97bf7f57a670>:20: DeprecationWarning: KerasClassifier is deprecated, use Sci-Keras (https://github.com/adriangb/scikeras) instead.\n",
      "  estimators = KerasClassifier(build_fn=create_model, epochs=epochs, batch_size=batch_size, verbose=verbose)\n",
      "[Parallel(n_jobs=1)]: Using backend SequentialBackend with 1 concurrent workers.\n"
     ]
    },
    {
     "name": "stdout",
     "output_type": "stream",
     "text": [
      "start\n",
      "start\n",
      "start\n",
      "start\n",
      "start\n",
      "start\n",
      "start\n",
      "start\n",
      "start\n",
      "start\n",
      "Hidden: 89.17% (0.29%)\n"
     ]
    },
    {
     "name": "stderr",
     "output_type": "stream",
     "text": [
      "[Parallel(n_jobs=1)]: Done  10 out of  10 | elapsed: 10.8min finished\n"
     ]
    }
   ],
   "source": [
    "def create_model(dropRate = 0.2,nOut = 5):   \n",
    "    model3 = Sequential()\n",
    "    model3.add(Conv1D(filters=64, kernel_size=3, padding='same', kernel_initializer='normal', activation='relu', input_shape=(25,1)))\n",
    "    model3.add(Conv1D(filters=32, kernel_size=1, padding='same', kernel_initializer='normal', activation='relu'))\n",
    "    model3.add(MaxPooling1D(pool_size=2))\n",
    "    model3.add(Conv1D(filters=64, kernel_size=3, padding='same', kernel_initializer='normal', activation='relu'))\n",
    "    model3.add(MaxPooling1D(pool_size=2))\n",
    "#     model3.add(Dropout(dropRate))\n",
    "    model3.add(Flatten())\n",
    "    model3.add(Dense(units=32, kernel_initializer='normal', activation='relu'))\n",
    "#     model3.add(Dropout(dropRate))\n",
    "    model3.add(Dense(units=nOut, activation='softmax'))\n",
    "#     model3.summary()\n",
    "\n",
    "        # optimizer = SGD(lr=0.0001) #,momentum=0.0)\n",
    "    model3.compile(loss='categorical_crossentropy', optimizer='adam', metrics=['accuracy'])\n",
    "    print(\"start\")\n",
    "    return model3\n",
    "\n",
    "estimators = KerasClassifier(build_fn=create_model, epochs=epochs, batch_size=batch_size, verbose=verbose)\n",
    "resultsNorm = cross_val_score(estimators, X_Conv1, y_Conv1, cv=kfold,verbose=1)\n",
    "print(\"Hidden: %.2f%% (%.2f%%)\" % (resultsNorm.mean()*100, resultsNorm.std()*100))\n",
    "\n",
    "\n"
   ]
  },
  {
   "cell_type": "markdown",
   "metadata": {},
   "source": [
    "save files"
   ]
  },
  {
   "cell_type": "code",
   "execution_count": 67,
   "metadata": {},
   "outputs": [
    {
     "name": "stdout",
     "output_type": "stream",
     "text": [
      "<class 'numpy.ndarray'>\n",
      "(10,)\n"
     ]
    }
   ],
   "source": [
    "print(type(results))\n",
    "print(results.shape)"
   ]
  },
  {
   "cell_type": "code",
   "execution_count": 31,
   "metadata": {},
   "outputs": [],
   "source": [
    "BigResults = np.zeros((8,results.shape[0]))\n",
    "BigResults[0,:] = results\n",
    "BigResults[1,:] = resultsWithDrop\n",
    "BigResults[2,:] = resultsMoreFilter\n",
    "BigResults[3,:] = resultsLessFilter\n",
    "BigResults[4,:] = resultsWith1Drop\n",
    "BigResults[5,:] = resultsWith1Dropbix\n",
    "BigResults[6,:] = resultsAlter\n",
    "BigResults[7,:] = resultsNorm\n",
    "np.save(\"BigResults2.npy\", BigResults)"
   ]
  },
  {
   "cell_type": "code",
   "execution_count": 32,
   "metadata": {},
   "outputs": [
    {
     "name": "stdout",
     "output_type": "stream",
     "text": [
      "mean (std) is 87.68805861473083 (0.8685291942095293)\n",
      "mean (std) is 87.60992407798767 (0.788596968690579)\n",
      "mean (std) is 89.14511799812317 (0.3416849868841315)\n",
      "mean (std) is 84.42152440547943 (1.655024056517719)\n",
      "mean (std) is 87.38566100597382 (1.4974178602129748)\n",
      "mean (std) is 87.77011334896088 (0.8155131941536661)\n",
      "mean (std) is 88.46186459064484 (0.589427890868307)\n",
      "mean (std) is 89.17225182056427 (0.24552825792458258)\n"
     ]
    }
   ],
   "source": [
    "BigResults = np.load(\"BigResults2.npy\")\n",
    "for i in range(8):\n",
    "    print(f'mean (std) is {BigResults[i,:].mean()*100} ({ BigResults[i,:].std()*100})')"
   ]
  },
  {
   "cell_type": "markdown",
   "metadata": {},
   "source": [
    "regarding the dropRate"
   ]
  },
  {
   "cell_type": "code",
   "execution_count": 33,
   "metadata": {},
   "outputs": [
    {
     "name": "stderr",
     "output_type": "stream",
     "text": [
      "<ipython-input-33-8e0bdece692a>:18: DeprecationWarning: KerasClassifier is deprecated, use Sci-Keras (https://github.com/adriangb/scikeras) instead.\n",
      "  estimators = KerasClassifier(build_fn=create_model, epochs=epochs, batch_size=batch_size, verbose=verbose)\n",
      "[Parallel(n_jobs=1)]: Using backend SequentialBackend with 1 concurrent workers.\n"
     ]
    },
    {
     "name": "stdout",
     "output_type": "stream",
     "text": [
      "start\n",
      "start\n",
      "start\n",
      "start\n",
      "start\n",
      "start\n",
      "start\n",
      "start\n",
      "start\n",
      "start\n",
      "Hidden: 88.75% (0.42%)\n"
     ]
    },
    {
     "name": "stderr",
     "output_type": "stream",
     "text": [
      "[Parallel(n_jobs=1)]: Done  10 out of  10 | elapsed: 12.0min finished\n"
     ]
    }
   ],
   "source": [
    "def create_model(dropRate = 0.5,nOut = 5):   \n",
    "    model3 = Sequential()\n",
    "    model3.add(Conv1D(filters=64, kernel_size=3, padding='same', kernel_initializer='normal', activation='relu', input_shape=(25,1)))\n",
    "    model3.add(Conv1D(filters=32, kernel_size=1, padding='same', kernel_initializer='normal', activation='relu'))\n",
    "    model3.add(MaxPooling1D(pool_size=2))\n",
    "    model3.add(Conv1D(filters=64, kernel_size=3, padding='same', kernel_initializer='normal', activation='relu'))\n",
    "    model3.add(MaxPooling1D(pool_size=2))\n",
    "    model3.add(Dropout(dropRate))\n",
    "    model3.add(Flatten())\n",
    "    model3.add(Dense(units=32, kernel_initializer='normal', activation='relu'))\n",
    "    model3.add(Dropout(dropRate))\n",
    "    model3.add(Dense(units=nOut, activation='softmax'))\n",
    "\n",
    "    model3.compile(loss='categorical_crossentropy', optimizer='adam', metrics=['accuracy'])\n",
    "    print(\"start\")\n",
    "    return model3\n",
    "    \n",
    "estimators = KerasClassifier(build_fn=create_model, epochs=epochs, batch_size=batch_size, verbose=verbose)\n",
    "resultsDrop05 = cross_val_score(estimators, X_Conv1, y_Conv1, cv=kfold,verbose=1)\n",
    "print(\"Hidden: %.2f%% (%.2f%%)\" % (resultsDrop05.mean()*100, resultsDrop05.std()*100))\n"
   ]
  },
  {
   "cell_type": "code",
   "execution_count": 23,
   "metadata": {},
   "outputs": [
    {
     "name": "stderr",
     "output_type": "stream",
     "text": [
      "<ipython-input-23-f9157f00f375>:18: DeprecationWarning: KerasClassifier is deprecated, use Sci-Keras (https://github.com/adriangb/scikeras) instead.\n",
      "  estimators = KerasClassifier(build_fn=create_model, epochs=epochs, batch_size=batch_size, verbose=verbose)\n",
      "[Parallel(n_jobs=1)]: Using backend SequentialBackend with 1 concurrent workers.\n"
     ]
    },
    {
     "name": "stdout",
     "output_type": "stream",
     "text": [
      "start\n",
      "start\n",
      "start\n",
      "start\n",
      "start\n",
      "start\n",
      "start\n",
      "start\n",
      "start\n",
      "start\n",
      "Hidden: 89.46% (0.26%)\n"
     ]
    },
    {
     "name": "stderr",
     "output_type": "stream",
     "text": [
      "[Parallel(n_jobs=1)]: Done  10 out of  10 | elapsed: 11.7min finished\n"
     ]
    }
   ],
   "source": [
    "def create_model(dropRate = 0.1,nOut = 5):   \n",
    "    model3 = Sequential()\n",
    "    model3.add(Conv1D(filters=64, kernel_size=3, padding='same', kernel_initializer='normal', activation='relu', input_shape=(25,1)))\n",
    "    model3.add(Conv1D(filters=32, kernel_size=1, padding='same', kernel_initializer='normal', activation='relu'))\n",
    "    model3.add(MaxPooling1D(pool_size=2))\n",
    "    model3.add(Conv1D(filters=64, kernel_size=3, padding='same', kernel_initializer='normal', activation='relu'))\n",
    "    model3.add(MaxPooling1D(pool_size=2))\n",
    "    model3.add(Dropout(dropRate))\n",
    "    model3.add(Flatten())\n",
    "    model3.add(Dense(units=32, kernel_initializer='normal', activation='relu'))\n",
    "    model3.add(Dropout(dropRate))\n",
    "    model3.add(Dense(units=nOut, activation='softmax'))\n",
    "\n",
    "    model3.compile(loss='categorical_crossentropy', optimizer='adam', metrics=['accuracy'])\n",
    "    print(\"start\")\n",
    "    return model3\n",
    "    \n",
    "estimators = KerasClassifier(build_fn=create_model, epochs=epochs, batch_size=batch_size, verbose=verbose)\n",
    "resultsDrop01 = cross_val_score(estimators, X_Conv1, y_Conv1, cv=kfold,verbose=1)\n",
    "print(\"Hidden: %.2f%% (%.2f%%)\" % (resultsDrop01.mean()*100, resultsDrop01.std()*100))\n",
    "\n",
    "\n"
   ]
  },
  {
   "cell_type": "code",
   "execution_count": 24,
   "metadata": {},
   "outputs": [
    {
     "name": "stdout",
     "output_type": "stream",
     "text": [
      "Model: \"sequential_70\"\n",
      "_________________________________________________________________\n",
      " Layer (type)                Output Shape              Param #   \n",
      "=================================================================\n",
      " conv1d_210 (Conv1D)         (None, 25, 64)            256       \n",
      "                                                                 \n",
      " conv1d_211 (Conv1D)         (None, 25, 32)            2080      \n",
      "                                                                 \n",
      " max_pooling1d_140 (MaxPooli  (None, 12, 32)           0         \n",
      " ng1D)                                                           \n",
      "                                                                 \n",
      " conv1d_212 (Conv1D)         (None, 12, 64)            6208      \n",
      "                                                                 \n",
      " max_pooling1d_141 (MaxPooli  (None, 6, 64)            0         \n",
      " ng1D)                                                           \n",
      "                                                                 \n",
      " dropout_80 (Dropout)        (None, 6, 64)             0         \n",
      "                                                                 \n",
      " flatten_70 (Flatten)        (None, 384)               0         \n",
      "                                                                 \n",
      " dense_140 (Dense)           (None, 32)                12320     \n",
      "                                                                 \n",
      " dropout_81 (Dropout)        (None, 32)                0         \n",
      "                                                                 \n",
      " dense_141 (Dense)           (None, 5)                 165       \n",
      "                                                                 \n",
      "=================================================================\n",
      "Total params: 21,029\n",
      "Trainable params: 21,029\n",
      "Non-trainable params: 0\n",
      "_________________________________________________________________\n",
      "Epoch 1/30\n",
      "477/477 [==============================] - 19s 39ms/step - loss: 0.6711 - accuracy: 0.6984 - val_loss: 0.4837 - val_accuracy: 0.8187\n",
      "Epoch 2/30\n",
      "477/477 [==============================] - 15s 32ms/step - loss: 0.4130 - accuracy: 0.8462 - val_loss: 0.4665 - val_accuracy: 0.8419\n",
      "Epoch 3/30\n",
      "477/477 [==============================] - 16s 33ms/step - loss: 0.3486 - accuracy: 0.8732 - val_loss: 0.4494 - val_accuracy: 0.8544\n",
      "Epoch 4/30\n",
      "477/477 [==============================] - 15s 32ms/step - loss: 0.3080 - accuracy: 0.8893 - val_loss: 0.4160 - val_accuracy: 0.8701\n",
      "Epoch 5/30\n",
      "477/477 [==============================] - 15s 31ms/step - loss: 0.2888 - accuracy: 0.8963 - val_loss: 0.4154 - val_accuracy: 0.8756\n",
      "Epoch 6/30\n",
      "477/477 [==============================] - 15s 32ms/step - loss: 0.2788 - accuracy: 0.8991 - val_loss: 0.4276 - val_accuracy: 0.8670\n",
      "Epoch 7/30\n",
      "477/477 [==============================] - 15s 31ms/step - loss: 0.2706 - accuracy: 0.9007 - val_loss: 0.4273 - val_accuracy: 0.8662\n",
      "Epoch 8/30\n",
      "477/477 [==============================] - 14s 30ms/step - loss: 0.2615 - accuracy: 0.9036 - val_loss: 0.4260 - val_accuracy: 0.8754\n",
      "Epoch 9/30\n",
      "477/477 [==============================] - 18s 39ms/step - loss: 0.2580 - accuracy: 0.9043 - val_loss: 0.4869 - val_accuracy: 0.8570\n",
      "Epoch 10/30\n",
      "477/477 [==============================] - 17s 36ms/step - loss: 0.2544 - accuracy: 0.9053 - val_loss: 0.4660 - val_accuracy: 0.8603\n",
      "Epoch 11/30\n",
      "477/477 [==============================] - 14s 29ms/step - loss: 0.2510 - accuracy: 0.9070 - val_loss: 0.4962 - val_accuracy: 0.8578\n",
      "Epoch 12/30\n",
      "477/477 [==============================] - 22s 47ms/step - loss: 0.2461 - accuracy: 0.9082 - val_loss: 0.4972 - val_accuracy: 0.8568\n",
      "Epoch 13/30\n",
      "477/477 [==============================] - 22s 46ms/step - loss: 0.2445 - accuracy: 0.9086 - val_loss: 0.4694 - val_accuracy: 0.8620\n",
      "Epoch 14/30\n",
      "477/477 [==============================] - 16s 33ms/step - loss: 0.2424 - accuracy: 0.9091 - val_loss: 0.5393 - val_accuracy: 0.8590\n",
      "Epoch 15/30\n",
      "477/477 [==============================] - 17s 35ms/step - loss: 0.2425 - accuracy: 0.9085 - val_loss: 0.5490 - val_accuracy: 0.8609\n",
      "Epoch 16/30\n",
      "477/477 [==============================] - 17s 35ms/step - loss: 0.2392 - accuracy: 0.9100 - val_loss: 0.4757 - val_accuracy: 0.8614\n",
      "Epoch 17/30\n",
      "477/477 [==============================] - 16s 34ms/step - loss: 0.2383 - accuracy: 0.9104 - val_loss: 0.4986 - val_accuracy: 0.8609\n",
      "Epoch 18/30\n",
      "477/477 [==============================] - 17s 37ms/step - loss: 0.2398 - accuracy: 0.9097 - val_loss: 0.4272 - val_accuracy: 0.8763\n",
      "Epoch 19/30\n",
      "477/477 [==============================] - 17s 35ms/step - loss: 0.2374 - accuracy: 0.9104 - val_loss: 0.5083 - val_accuracy: 0.8607\n",
      "Epoch 20/30\n",
      "477/477 [==============================] - 18s 38ms/step - loss: 0.2348 - accuracy: 0.9116 - val_loss: 0.4342 - val_accuracy: 0.8735\n",
      "Epoch 21/30\n",
      "477/477 [==============================] - 17s 35ms/step - loss: 0.2337 - accuracy: 0.9122 - val_loss: 0.5324 - val_accuracy: 0.8534\n",
      "Epoch 22/30\n",
      "477/477 [==============================] - 17s 36ms/step - loss: 0.2354 - accuracy: 0.9115 - val_loss: 0.5459 - val_accuracy: 0.8573\n",
      "Epoch 23/30\n",
      "477/477 [==============================] - 16s 33ms/step - loss: 0.2325 - accuracy: 0.9125 - val_loss: 0.4435 - val_accuracy: 0.8698\n",
      "Epoch 24/30\n",
      "477/477 [==============================] - 18s 38ms/step - loss: 0.2328 - accuracy: 0.9127 - val_loss: 0.5317 - val_accuracy: 0.8529\n",
      "Epoch 25/30\n",
      "477/477 [==============================] - 16s 34ms/step - loss: 0.2314 - accuracy: 0.9128 - val_loss: 0.5754 - val_accuracy: 0.8435\n",
      "Epoch 26/30\n",
      "477/477 [==============================] - 18s 38ms/step - loss: 0.2306 - accuracy: 0.9135 - val_loss: 0.5276 - val_accuracy: 0.8600\n",
      "Epoch 27/30\n",
      "477/477 [==============================] - 15s 31ms/step - loss: 0.2304 - accuracy: 0.9135 - val_loss: 0.5586 - val_accuracy: 0.8465\n",
      "Epoch 28/30\n",
      "477/477 [==============================] - 16s 33ms/step - loss: 0.2305 - accuracy: 0.9133 - val_loss: 0.5697 - val_accuracy: 0.8451\n",
      "Epoch 29/30\n",
      "477/477 [==============================] - 16s 33ms/step - loss: 0.2294 - accuracy: 0.9135 - val_loss: 0.5830 - val_accuracy: 0.8468\n",
      "Epoch 30/30\n",
      "477/477 [==============================] - 16s 33ms/step - loss: 0.2282 - accuracy: 0.9149 - val_loss: 0.6320 - val_accuracy: 0.8373\n",
      "1912/1912 [==============================] - 4s 2ms/step - loss: 0.6320 - accuracy: 0.8373\n"
     ]
    },
    {
     "data": {
      "image/png": "[encoded data removed]",
      "text/plain": [
       "<Figure size 432x288 with 1 Axes>"
      ]
     },
     "metadata": {
      "needs_background": "light"
     },
     "output_type": "display_data"
    },
    {
     "data": {
      "image/png": "[encoded data removed]",
      "text/plain": [
       "<Figure size 432x288 with 1 Axes>"
      ]
     },
     "metadata": {
      "needs_background": "light"
     },
     "output_type": "display_data"
    }
   ],
   "source": [
    "# Final chosen model:\n",
    "np.random.seed(123)\n",
    "verbose = 1\n",
    "epochs = 30\n",
    "batch_size = 514\n",
    "dropRate = 0.1\n",
    "nOut = 5\n",
    "X_train, y_train = X_trainConv1, y_trainConv1\n",
    "\n",
    "model3 = Sequential()\n",
    "model3.add(Conv1D(filters=64, kernel_size=3, padding='same', kernel_initializer='normal', activation='relu', input_shape=(25,1)))\n",
    "model3.add(Conv1D(filters=32, kernel_size=1, padding='same', kernel_initializer='normal', activation='relu'))\n",
    "model3.add(MaxPooling1D(pool_size=2))\n",
    "model3.add(Conv1D(filters=64, kernel_size=3, padding='same', kernel_initializer='normal', activation='relu'))\n",
    "model3.add(MaxPooling1D(pool_size=2))\n",
    "model3.add(Dropout(dropRate))\n",
    "model3.add(Flatten())\n",
    "model3.add(Dense(units=32, kernel_initializer='normal', activation='relu'))\n",
    "model3.add(Dropout(dropRate))\n",
    "model3.add(Dense(units=nOut, activation='softmax'))\n",
    "model3.summary()\n",
    "\n",
    "model3.compile(loss='categorical_crossentropy', optimizer='adam', metrics=['accuracy'])\n",
    "\n",
    "    # fit network\n",
    "history = model3.fit(X_train, y_train, epochs=epochs, batch_size=batch_size, verbose=verbose, validation_data=(X_valConv1, y_valConv1))\n",
    "model3.evaluate(X_valConv1, y_valConv1)\n",
    "\n",
    "plt.plot(history.history['accuracy'], label = 'train')\n",
    "plt.plot(history.history['val_accuracy'],label = 'val')\n",
    "plt.title('model accuracy')\n",
    "plt.ylabel('accuracy')\n",
    "plt.xlabel('epoch')\n",
    "plt.legend(loc='lower right')\n",
    "plt.show()\n",
    "\n",
    "plt.plot(history.history['loss'], label = 'train')\n",
    "plt.plot(history.history['val_loss'], label = 'val')\n",
    "plt.title('model loss')\n",
    "plt.ylabel('loss')\n",
    "plt.xlabel('epoch')\n",
    "plt.legend(loc='lower right')\n",
    "plt.show()"
   ]
  },
  {
   "cell_type": "code",
   "execution_count": 25,
   "metadata": {},
   "outputs": [
    {
     "name": "stdout",
     "output_type": "stream",
     "text": [
      "0.8763137459754944\n",
      "18\n"
     ]
    }
   ],
   "source": [
    "print(max(history.history['val_accuracy']))\n",
    "print(np.argmax(history.history['val_accuracy'])+1)"
   ]
  },
  {
   "cell_type": "code",
   "execution_count": 26,
   "metadata": {},
   "outputs": [
    {
     "data": {
      "text/plain": [
       "<keras.callbacks.History at 0x147ab6e80>"
      ]
     },
     "execution_count": 26,
     "metadata": {},
     "output_type": "execute_result"
    }
   ],
   "source": [
    "#pick model 3\n",
    "model3.fit(X_train, y_train, epochs=18, batch_size=batch_size, verbose=0, validation_data=(X_valConv1, y_valConv1))\n"
   ]
  },
  {
   "cell_type": "markdown",
   "metadata": {},
   "source": [
    "#### Try decision tree"
   ]
  },
  {
   "cell_type": "code",
   "execution_count": 43,
   "metadata": {},
   "outputs": [
    {
     "name": "stdout",
     "output_type": "stream",
     "text": [
      "The accuracy of the model in training set: 90.37885505759856 %\n",
      "The accuracy of the model in validation set: 90.49183543372726 %\n"
     ]
    }
   ],
   "source": [
    "model4 = make_pipeline(prepro1, DecisionTreeClassifier(max_depth = 5))\n",
    "\n",
    "model4.fit(X_train1, y_train1)\n",
    "\n",
    "predictVal = model4.score(X_val1,y_val1)\n",
    "predictTrain = model4.score(X_train1,y_train1)\n",
    "print('The accuracy of the model in training set: ' + str(predictTrain*100)+ ' %')\n",
    "print('The accuracy of the model in validation set: ' + str(predictVal*100)+ ' %')"
   ]
  },
  {
   "cell_type": "code",
   "execution_count": 54,
   "metadata": {},
   "outputs": [
    {
     "name": "stdout",
     "output_type": "stream",
     "text": [
      "The accuracy of the model in validation set with depth 1: 82.17689076317038%\n",
      "The accuracy of the model in training set with depth 1: 82.09684076318597%\n",
      "The accuracy of the model in validation set with depth 3: 88.82296212752742%\n",
      "The accuracy of the model in training set with depth 3: 88.79698910142984%\n",
      "The accuracy of the model in validation set with depth 5: 90.49183543372726%\n",
      "The accuracy of the model in training set with depth 5: 90.37885505759856%\n",
      "The accuracy of the model in validation set with depth 7: 91.14565455466746%\n",
      "The accuracy of the model in training set with depth 7: 91.20309262763014%\n",
      "The accuracy of the model in validation set with depth 8: 91.47746775854459%\n",
      "The accuracy of the model in training set with depth 8: 91.58967108139807%\n",
      "The accuracy of the model in validation set with depth 9: 91.8141846058288%\n",
      "The accuracy of the model in training set with depth 9: 92.02814748826167%\n",
      "The accuracy of the model in validation set with depth 10: 91.84197191846876%\n",
      "The accuracy of the model in training set with depth 10: 92.31624242473775%\n",
      "The accuracy of the model in validation set with depth 11: 91.86158649209696%\n",
      "The accuracy of the model in training set with depth 11: 92.63212524161153%\n",
      "The accuracy of the model in validation set with depth 12: 91.77332091077004%\n",
      "The accuracy of the model in training set with depth 12: 92.98601207138216%\n",
      "The accuracy of the model in validation set with depth 15: 91.09661812059694%\n",
      "The accuracy of the model in training set with depth 15: 94.40850636056409%\n",
      "The accuracy of the model in validation set with depth 20: 89.52908677814283%\n",
      "The accuracy of the model in training set with depth 20: 97.13539644723777%\n"
     ]
    }
   ],
   "source": [
    "max_depth = [1,3,5,7,8,9,10,11,12,15,20]\n",
    "resultsDT = np.zeros((len(max_depth),2))\n",
    "\n",
    "for i in range(len(max_depth)):\n",
    "\n",
    "    model4 = make_pipeline(prepro1, DecisionTreeClassifier(max_depth = max_depth[i]))\n",
    "    model4.fit(X_train1, y_train1)\n",
    "    \n",
    "    resultsDT[i,0] = model4.score(X_val1,y_val1)\n",
    "    resultsDT[i,1] = model4.score(X_train1,y_train1)\n",
    "    print(f'The accuracy of the model in validation set with depth {max_depth[i]}: {resultsDT[i,0]*100}%')\n",
    "    print(f'The accuracy of the model in training set with depth {max_depth[i]}: {resultsDT[i,1]*100}%')\n",
    "    "
   ]
  },
  {
   "cell_type": "code",
   "execution_count": 55,
   "metadata": {},
   "outputs": [
    {
     "name": "stdout",
     "output_type": "stream",
     "text": [
      "[[0.82176891 0.82096841]\n",
      " [0.88822962 0.88796989]\n",
      " [0.90491835 0.90378855]\n",
      " [0.91145655 0.91203093]\n",
      " [0.91477468 0.91589671]\n",
      " [0.91814185 0.92028147]\n",
      " [0.91841972 0.92316242]\n",
      " [0.91861586 0.92632125]\n",
      " [0.91773321 0.92986012]\n",
      " [0.91096618 0.94408506]\n",
      " [0.89529087 0.97135396]]\n"
     ]
    }
   ],
   "source": [
    "print(resultsDT)"
   ]
  },
  {
   "cell_type": "code",
   "execution_count": 46,
   "metadata": {},
   "outputs": [
    {
     "name": "stdout",
     "output_type": "stream",
     "text": [
      "The accuracy of the model in validation set with depth 1: 81.20596936857419%\n",
      "The accuracy of the model in training set with depth 1: 81.11486610736746%\n",
      "The accuracy of the model in validation set with depth 3: 87.86838621095474%\n",
      "The accuracy of the model in training set with depth 3: 87.91717577060287%\n",
      "The accuracy of the model in validation set with depth 5: 89.72032887101783%\n",
      "The accuracy of the model in training set with depth 5: 89.87622133864028%\n",
      "The accuracy of the model in validation set with depth 7: 91.18324915412151%\n",
      "The accuracy of the model in training set with depth 7: 91.26234619612522%\n",
      "The accuracy of the model in validation set with depth 8: 91.56736788767388%\n",
      "The accuracy of the model in training set with depth 8: 91.6975534405891%\n",
      "The accuracy of the model in validation set with depth 9: 91.68505532944312%\n",
      "The accuracy of the model in training set with depth 9: 91.85038678277641%\n",
      "The accuracy of the model in validation set with depth 10: 91.94331388221448%\n",
      "The accuracy of the model in training set with depth 10: 92.07800221485752%\n",
      "The accuracy of the model in validation set with depth 11: 91.86649013550401%\n",
      "The accuracy of the model in training set with depth 11: 92.32441533073708%\n",
      "The accuracy of the model in validation set with depth 12: 91.86649013550401%\n",
      "The accuracy of the model in training set with depth 12: 92.62722149801193%\n",
      "The accuracy of the model in validation set with depth 15: 91.20286372774972%\n",
      "The accuracy of the model in training set with depth 15: 93.87563288940832%\n",
      "The accuracy of the model in validation set with depth 20: 89.81840173915886%\n",
      "The accuracy of the model in training set with depth 20: 96.50363081349019%\n"
     ]
    }
   ],
   "source": [
    "max_depth = [1,3,5,7,8,9,10,11,12,15,20]\n",
    "resultsDT2 = np.zeros((len(max_depth),2))\n",
    "\n",
    "for i in range(len(max_depth)):\n",
    "\n",
    "    model4 = make_pipeline(prepro1, DecisionTreeClassifier(max_depth = max_depth[i], criterion='entropy'))\n",
    "    model4.fit(X_train1, y_train1)\n",
    "    \n",
    "    resultsDT2[i,0] = model4.score(X_val1,y_val1)\n",
    "    resultsDT2[i,1] = model4.score(X_train1,y_train1)\n",
    "    print(f'The accuracy of the model in validation set with depth {max_depth[i]}: {resultsDT2[i,0]*100}%')\n",
    "    print(f'The accuracy of the model in training set with depth {max_depth[i]}: {resultsDT2[i,1]*100}%')\n"
   ]
  },
  {
   "cell_type": "code",
   "execution_count": 47,
   "metadata": {},
   "outputs": [
    {
     "name": "stdout",
     "output_type": "stream",
     "text": [
      "[[0.81205969 0.81114866]\n",
      " [0.87868386 0.87917176]\n",
      " [0.89720329 0.89876221]\n",
      " [0.91183249 0.91262346]\n",
      " [0.91567368 0.91697553]\n",
      " [0.91685055 0.91850387]\n",
      " [0.91943314 0.92078002]\n",
      " [0.9186649  0.92324415]\n",
      " [0.9186649  0.92627221]\n",
      " [0.91202864 0.93875633]\n",
      " [0.89818402 0.96503631]]\n"
     ]
    }
   ],
   "source": [
    "print(resultsDT2)"
   ]
  },
  {
   "cell_type": "code",
   "execution_count": 48,
   "metadata": {},
   "outputs": [
    {
     "name": "stdout",
     "output_type": "stream",
     "text": [
      "The accuracy of the model in validation set with depth 1: 82.17689076317038%\n",
      "The accuracy of the model in training set with depth 1: 82.09684076318597%\n",
      "The accuracy of the model in validation set with depth 3: 88.82296212752742%\n",
      "The accuracy of the model in training set with depth 3: 88.79698910142984%\n",
      "The accuracy of the model in validation set with depth 5: 90.30386243645695%\n",
      "The accuracy of the model in training set with depth 5: 90.20313757861314%\n",
      "The accuracy of the model in validation set with depth 7: 90.6225992579153%\n",
      "The accuracy of the model in training set with depth 7: 90.6289459811778%\n",
      "The accuracy of the model in validation set with depth 8: 90.84816685463967%\n",
      "The accuracy of the model in training set with depth 8: 90.81528823796233%\n",
      "The accuracy of the model in validation set with depth 9: 90.91191421893133%\n",
      "The accuracy of the model in training set with depth 9: 90.90764207575467%\n",
      "The accuracy of the model in validation set with depth 10: 90.91191421893133%\n",
      "The accuracy of the model in training set with depth 10: 90.90764207575467%\n",
      "The accuracy of the model in validation set with depth 11: 90.91191421893133%\n",
      "The accuracy of the model in training set with depth 11: 90.90764207575467%\n",
      "The accuracy of the model in validation set with depth 12: 90.91191421893133%\n",
      "The accuracy of the model in training set with depth 12: 90.90764207575467%\n",
      "The accuracy of the model in validation set with depth 15: 90.91191421893133%\n",
      "The accuracy of the model in training set with depth 15: 90.90764207575467%\n",
      "The accuracy of the model in validation set with depth 20: 90.91191421893133%\n",
      "The accuracy of the model in training set with depth 20: 90.90764207575467%\n"
     ]
    }
   ],
   "source": [
    "max_depth = [1,3,5,7,8,9,10,11,12,15,20]\n",
    "resultsDT3 = np.zeros((len(max_depth),2))\n",
    "\n",
    "for i in range(len(max_depth)):\n",
    "\n",
    "    model4 = make_pipeline(prepro1, DecisionTreeClassifier(max_depth = max_depth[i], min_samples_leaf=1000))\n",
    "    model4.fit(X_train1, y_train1)\n",
    "    \n",
    "    resultsDT3[i,0] = model4.score(X_val1,y_val1)\n",
    "    resultsDT3[i,1] = model4.score(X_train1,y_train1)\n",
    "    print(f'The accuracy of the model in validation set with depth {max_depth[i]}: {resultsDT3[i,0]*100}%')\n",
    "    print(f'The accuracy of the model in training set with depth {max_depth[i]}: {resultsDT3[i,1]*100}%')"
   ]
  },
  {
   "cell_type": "code",
   "execution_count": 49,
   "metadata": {},
   "outputs": [
    {
     "name": "stdout",
     "output_type": "stream",
     "text": [
      "[[0.82176891 0.82096841]\n",
      " [0.88822962 0.88796989]\n",
      " [0.90303862 0.90203138]\n",
      " [0.90622599 0.90628946]\n",
      " [0.90848167 0.90815288]\n",
      " [0.90911914 0.90907642]\n",
      " [0.90911914 0.90907642]\n",
      " [0.90911914 0.90907642]\n",
      " [0.90911914 0.90907642]\n",
      " [0.90911914 0.90907642]\n",
      " [0.90911914 0.90907642]]\n"
     ]
    }
   ],
   "source": [
    "print(resultsDT3)"
   ]
  },
  {
   "cell_type": "code",
   "execution_count": 50,
   "metadata": {},
   "outputs": [
    {
     "name": "stdout",
     "output_type": "stream",
     "text": [
      "The accuracy of the model in validation set with depth 1: 82.17689076317038%\n",
      "The accuracy of the model in training set with depth 1: 82.09684076318597%\n",
      "The accuracy of the model in validation set with depth 3: 88.82296212752742%\n",
      "The accuracy of the model in training set with depth 3: 88.79698910142984%\n",
      "The accuracy of the model in validation set with depth 5: 90.49183543372726%\n",
      "The accuracy of the model in training set with depth 5: 90.37640318579876%\n",
      "The accuracy of the model in validation set with depth 7: 91.13094362444629%\n",
      "The accuracy of the model in training set with depth 7: 91.16345403353343%\n",
      "The accuracy of the model in validation set with depth 8: 91.46929501953285%\n",
      "The accuracy of the model in training set with depth 8: 91.56964746169972%\n",
      "The accuracy of the model in validation set with depth 9: 91.71447718988541%\n",
      "The accuracy of the model in training set with depth 9: 91.94968759066818%\n",
      "The accuracy of the model in validation set with depth 10: 91.78966638879355%\n",
      "The accuracy of the model in training set with depth 10: 92.10905925765495%\n",
      "The accuracy of the model in validation set with depth 11: 91.83216463165465%\n",
      "The accuracy of the model in training set with depth 11: 92.22143671514561%\n",
      "The accuracy of the model in validation set with depth 12: 91.8174537014335%\n",
      "The accuracy of the model in training set with depth 12: 92.27456060414121%\n",
      "The accuracy of the model in validation set with depth 15: 91.73572631131599%\n",
      "The accuracy of the model in training set with depth 15: 92.34893404873505%\n",
      "The accuracy of the model in validation set with depth 20: 91.71938083329248%\n",
      "The accuracy of the model in training set with depth 20: 92.36977495903331%\n"
     ]
    }
   ],
   "source": [
    "max_depth = [1,3,5,7,8,9,10,11,12,15,20]\n",
    "resultsDT4 = np.zeros((len(max_depth),2))\n",
    "\n",
    "for i in range(len(max_depth)):\n",
    "\n",
    "    model4 = make_pipeline(prepro1, DecisionTreeClassifier(max_depth = max_depth[i], min_samples_leaf=40))\n",
    "    model4.fit(X_train1, y_train1)\n",
    "    \n",
    "    resultsDT4[i,0] = model4.score(X_val1,y_val1)\n",
    "    resultsDT4[i,1] = model4.score(X_train1,y_train1)\n",
    "    print(f'The accuracy of the model in validation set with depth {max_depth[i]}: {resultsDT4[i,0]*100}%')\n",
    "    print(f'The accuracy of the model in training set with depth {max_depth[i]}: {resultsDT4[i,1]*100}%')"
   ]
  },
  {
   "cell_type": "code",
   "execution_count": 51,
   "metadata": {},
   "outputs": [
    {
     "name": "stdout",
     "output_type": "stream",
     "text": [
      "[[0.82176891 0.82096841]\n",
      " [0.88822962 0.88796989]\n",
      " [0.90491835 0.90376403]\n",
      " [0.91130944 0.91163454]\n",
      " [0.91469295 0.91569647]\n",
      " [0.91714477 0.91949688]\n",
      " [0.91789666 0.92109059]\n",
      " [0.91832165 0.92221437]\n",
      " [0.91817454 0.92274561]\n",
      " [0.91735726 0.92348934]\n",
      " [0.91719381 0.92369775]]\n"
     ]
    }
   ],
   "source": [
    "print(resultsDT4)"
   ]
  },
  {
   "cell_type": "code",
   "execution_count": 56,
   "metadata": {},
   "outputs": [
    {
     "data": {
      "image/png": "[encoded data removed]",
      "text/plain": [
       "<Figure size 432x288 with 1 Axes>"
      ]
     },
     "metadata": {
      "needs_background": "light"
     },
     "output_type": "display_data"
    },
    {
     "name": "stdout",
     "output_type": "stream",
     "text": [
      "the highest validation accuracy for Gini default is 0.9186158649209696 at depth 11\n",
      "the highest validation accuracy for entropy is 0.9194331388221448 at depth 10\n",
      "the highest validation accuracy for Gini min leaf 1000 is 0.9091191421893133 at depth 9\n",
      "the highest validation accuracy for Gini min leaf 40 is 0.9183216463165466 at depth 11\n"
     ]
    }
   ],
   "source": [
    "plt.plot(max_depth, resultsDT[:,0], label='Gini criterion (default)')\n",
    "plt.plot(max_depth, resultsDT2[:,0], label='entropy criterion')\n",
    "plt.plot(max_depth, resultsDT3[:,0], label='Gini + min leaf = 1000')\n",
    "plt.plot(max_depth, resultsDT4[:,0], label='Gini + min leaf = 40')\n",
    "plt.legend()\n",
    "plt.xlabel('max depth')\n",
    "plt.ylabel('val accuracy')\n",
    "plt.show()\n",
    "print(f'the highest validation accuracy for Gini default is {np.max(resultsDT[:,0])} at depth {max_depth[np.argmax(resultsDT[:,0])]}')\n",
    "print(f'the highest validation accuracy for entropy is {np.max(resultsDT2[:,0])} at depth {max_depth[np.argmax(resultsDT2[:,0])]}')\n",
    "print(f'the highest validation accuracy for Gini min leaf 1000 is {np.max(resultsDT3[:,0])} at depth {max_depth[np.argmax(resultsDT3[:,0])]}')\n",
    "print(f'the highest validation accuracy for Gini min leaf 40 is {np.max(resultsDT4[:,0])} at depth {max_depth[np.argmax(resultsDT4[:,0])]}')\n",
    "\n"
   ]
  },
  {
   "cell_type": "code",
   "execution_count": 57,
   "metadata": {},
   "outputs": [
    {
     "data": {
      "image/png": "[encoded data removed]",
      "text/plain": [
       "<Figure size 432x288 with 1 Axes>"
      ]
     },
     "metadata": {
      "needs_background": "light"
     },
     "output_type": "display_data"
    },
    {
     "name": "stdout",
     "output_type": "stream",
     "text": [
      "the highest training accuracy for Gini default is 0.9713539644723777 at depth 20\n",
      "the highest training accuracy for entropy is 0.9650363081349019 at depth 20\n",
      "the highest training accuracy for Gini min leaf 1000 is 0.9090764207575467 at depth 9\n",
      "the highest training accuracy for Gini min leaf 40 is 0.9236977495903331 at depth 20\n"
     ]
    }
   ],
   "source": [
    "plt.plot(max_depth, resultsDT[:,1], label='Gini criterion (default)')\n",
    "plt.plot(max_depth, resultsDT2[:,1], label='entropy criterion')\n",
    "plt.plot(max_depth, resultsDT3[:,1], label='Gini + min leaf = 1000')\n",
    "plt.plot(max_depth, resultsDT4[:,1], label='Gini + min leaf = 40')\n",
    "plt.legend()\n",
    "plt.xlabel('max depth')\n",
    "plt.ylabel('training accuracy')\n",
    "plt.show()\n",
    "print(f'the highest training accuracy for Gini default is {np.max(resultsDT[:,1])} at depth {max_depth[np.argmax(resultsDT[:,1])]}')\n",
    "print(f'the highest training accuracy for entropy is {np.max(resultsDT2[:,1])} at depth {max_depth[np.argmax(resultsDT2[:,1])]}')\n",
    "print(f'the highest training accuracy for Gini min leaf 1000 is {np.max(resultsDT3[:,1])} at depth {max_depth[np.argmax(resultsDT3[:,1])]}')\n",
    "print(f'the highest training accuracy for Gini min leaf 40 is {np.max(resultsDT4[:,1])} at depth {max_depth[np.argmax(resultsDT4[:,1])]}')\n",
    "\n"
   ]
  },
  {
   "cell_type": "code",
   "execution_count": 52,
   "metadata": {},
   "outputs": [],
   "source": [
    "from sklearn import tree"
   ]
  },
  {
   "cell_type": "code",
   "execution_count": 73,
   "metadata": {},
   "outputs": [
    {
     "data": {
      "text/plain": [
       "Pipeline(steps=[('columntransformer',\n",
       "                 ColumnTransformer(transformers=[('onehotencoder',\n",
       "                                                  OneHotEncoder(categories=[['Film '\n",
       "                                                                             '& '\n",
       "                                                                             'Video',\n",
       "                                                                             'Music',\n",
       "                                                                             'Publishing',\n",
       "                                                                             'Games',\n",
       "                                                                             'Technology',\n",
       "                                                                             'Art',\n",
       "                                                                             'Design',\n",
       "                                                                             'Food',\n",
       "                                                                             'Fashion',\n",
       "                                                                             'Theater',\n",
       "                                                                             'Comics',\n",
       "                                                                             'Photography',\n",
       "                                                                             'Crafts',\n",
       "                                                                             'Journalism',\n",
       "                                                                             'Dance'],\n",
       "                                                                            ['USD',\n",
       "                                                                             'GBP',\n",
       "                                                                             'EUR',\n",
       "                                                                             'CAD',\n",
       "                                                                             'other',\n",
       "                                                                             'AUD']],\n",
       "                                                                drop='first'),\n",
       "                                                  ['main_category',\n",
       "                                                   'currency']),\n",
       "                                                 ('standardscaler',\n",
       "                                                  StandardScaler(),\n",
       "                                                  ['backers', 'usd_goal_real',\n",
       "                                                   'nameLength', 'launchTime',\n",
       "                                                   'deadlineTime',\n",
       "                                                   'projectLength'])])),\n",
       "                ('decisiontreeclassifier',\n",
       "                 DecisionTreeClassifier(criterion='entropy', max_depth=10))])"
      ]
     },
     "execution_count": 73,
     "metadata": {},
     "output_type": "execute_result"
    }
   ],
   "source": [
    "model4 = make_pipeline(prepro1, DecisionTreeClassifier(max_depth = 10, criterion='entropy'))\n",
    "model4.fit(X_train1, y_train1)"
   ]
  },
  {
   "cell_type": "code",
   "execution_count": 63,
   "metadata": {},
   "outputs": [
    {
     "data": {
      "image/png": "[encoded data removed]",
      "text/plain": [
       "<Figure size 1800x1440 with 1 Axes>"
      ]
     },
     "metadata": {
      "needs_background": "light"
     },
     "output_type": "display_data"
    }
   ],
   "source": [
    "X = prepro1.fit_transform(X_train1)\n",
    "y = y_train1\n",
    "clf = DecisionTreeClassifier(max_depth = 10, criterion='entropy')\n",
    "res = clf.fit(X, y)\n",
    "\n",
    "\n",
    "enc1 = OneHotEncoder(categories=[mainCategory,currency],drop = 'first')\n",
    "dum = enc1.fit_transform(X_train1[['main_category','currency']])\n",
    "listFeat = enc1.get_feature_names(['main_category','currency']).tolist()\n",
    "listContFeat = ['backers','usd_goal_real', 'nameLength', 'launchTime', 'deadlineTime', 'projectLength']\n",
    "for i in listContFeat:\n",
    "    listFeat.append(i)\n",
    "\n",
    "fig = plt.figure(figsize=(25,20))\n",
    "_ = tree.plot_tree(clf,\n",
    "                   feature_names=listFeat,\n",
    "                  class_names=['success','failed','undefined','live','suspended'],\n",
    "                  filled=True)"
   ]
  },
  {
   "cell_type": "code",
   "execution_count": 61,
   "metadata": {},
   "outputs": [
    {
     "data": {
      "image/png": "[encoded data removed]",
      "text/plain": [
       "<Figure size 1800x1440 with 1 Axes>"
      ]
     },
     "metadata": {
      "needs_background": "light"
     },
     "output_type": "display_data"
    }
   ],
   "source": [
    "X = prepro1.fit_transform(X_train1)\n",
    "y = y_train1\n",
    "clf = DecisionTreeClassifier(max_depth = 3,criterion='entropy')\n",
    "res = clf.fit(X, y)\n",
    "\n",
    "\n",
    "enc1 = OneHotEncoder(categories=[mainCategory,currency],drop = 'first')\n",
    "dum = enc1.fit_transform(X_train1[['main_category','currency']])\n",
    "listFeat = enc1.get_feature_names(['main_category','currency']).tolist()\n",
    "listContFeat = ['backers','usd_goal_real', 'nameLength', 'launchTime', 'deadlineTime', 'projectLength']\n",
    "for i in listContFeat:\n",
    "    listFeat.append(i)\n",
    "\n",
    "fig = plt.figure(figsize=(25,20))\n",
    "_ = tree.plot_tree(clf,\n",
    "                   feature_names=listFeat,\n",
    "                  class_names=['success','failed','undefined','live','suspended'],\n",
    "                  filled=True)"
   ]
  },
  {
   "cell_type": "code",
   "execution_count": null,
   "metadata": {},
   "outputs": [],
   "source": []
  },
  {
   "cell_type": "markdown",
   "metadata": {},
   "source": [
    "## Tests results"
   ]
  },
  {
   "cell_type": "code",
   "execution_count": 28,
   "metadata": {},
   "outputs": [
    {
     "data": {
      "text/plain": [
       "(33988, 10)"
      ]
     },
     "execution_count": 28,
     "metadata": {},
     "output_type": "execute_result"
    }
   ],
   "source": [
    "#df1 has all the thing needed for this part\n",
    "dfS_test = df_test.copy()\n",
    "dfS_test = dfS_test[['name','main_category','state', 'backers','usd_goal_real', 'nameLength', 'launchTime', 'deadlineTime', 'projectLength','currency']]\n",
    "dfS_test = dfS_test[dfS_test['state'] != 'canceled']\n",
    "dfS_test.shape\n"
   ]
  },
  {
   "cell_type": "code",
   "execution_count": 29,
   "metadata": {},
   "outputs": [],
   "source": [
    "X_test1 = dfS_test.drop(columns=['state','name'])\n",
    "y_test1 = dfS_test['state']\n",
    "X_test2 = dfS_test.drop(columns=['state'])\n",
    "y_test2 = dfS_test['state']"
   ]
  },
  {
   "cell_type": "code",
   "execution_count": 74,
   "metadata": {},
   "outputs": [
    {
     "name": "stdout",
     "output_type": "stream",
     "text": [
      "Test result for logistic without text feature = 88.67247263740143\n",
      "Test result for logistic with text feature = 85.87442626809462\n",
      "Test result for logistic with decision tree = 92.00894433329411\n"
     ]
    }
   ],
   "source": [
    "print(f'Test result for logistic without text feature = {model1.score(X_test1,y_test1)*100}')\n",
    "print(f'Test result for logistic with text feature = {model2.score(X_test2,y_test2)*100}')\n",
    "print(f'Test result for logistic with decision tree = {model4.score(X_test1,y_test1)*100}')"
   ]
  },
  {
   "cell_type": "code",
   "execution_count": 32,
   "metadata": {},
   "outputs": [
    {
     "name": "stdout",
     "output_type": "stream",
     "text": [
      "1063/1063 [==============================] - 2s 2ms/step - loss: 0.9536 - accuracy: 0.8086\n",
      "Test result for logistic with convolution network = [0.9535500407218933, 0.8085795044898987]\n"
     ]
    }
   ],
   "source": [
    "X_testConv1 = prepro1.fit_transform(X_test1).toarray()\n",
    "X_testConv1 = np.reshape(X_testConv1, (X_testConv1.shape[0],X_testConv1.shape[1],1))\n",
    "\n",
    "dum1 = OneHotEncoder(categories=[['successful','failed','undefined','live','suspended']]).fit(y_test1.values.reshape(-1,1))\n",
    "y_testConv1 = dum1.transform(y_test1.values.reshape(-1,1)).toarray()\n",
    "\n",
    "print(f'Test result for logistic with convolution network = {model3.evaluate(X_testConv1,y_testConv1)}')\n",
    "\n"
   ]
  }
 ],
 "metadata": {
  "kernelspec": {
   "display_name": "Python 3",
   "language": "python",
   "name": "python3"
  },
  "language_info": {
   "codemirror_mode": {
    "name": "ipython",
    "version": 3
   },
   "file_extension": ".py",
   "mimetype": "text/x-python",
   "name": "python",
   "nbconvert_exporter": "python",
   "pygments_lexer": "ipython3",
   "version": "3.8.3"
  }
 },
 "nbformat": 4,
 "nbformat_minor": 4
}
